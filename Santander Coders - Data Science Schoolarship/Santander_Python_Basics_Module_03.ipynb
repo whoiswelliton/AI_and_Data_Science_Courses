{
  "nbformat": 4,
  "nbformat_minor": 0,
  "metadata": {
    "colab": {
      "name": "Python Basics - Module 03.ipynb",
      "provenance": [],
      "collapsed_sections": []
    },
    "kernelspec": {
      "name": "python3",
      "display_name": "Python 3"
    },
    "language_info": {
      "name": "python"
    }
  },
  "cells": [
    {
      "cell_type": "markdown",
      "metadata": {
        "id": "oOMs0YLGa02N"
      },
      "source": [
        "Abrindo e fechando arquivos\n",
        "\n",
        "Podemos criar arquivos novos ou abrir arquivos já existentes utilizando a função open. Ela possui 2 argumentos: o caminho do arquivo e o modo de operação.\n",
        "\n",
        "Modo\tSímbolo\tDescrição\n",
        "\n",
        "read\tr\tlê um arquivo existente\n",
        "\n",
        "write\tw\tcria um novo arquivo\n",
        "\n",
        "append\ta\tabre um arquivo existente para adicionar informações ao seu final\n",
        "\n",
        "update\t+\tao ser combinado com outros modos, permite alteração de arquivo já existente (ex: r+ abre um arquivo existente e permite modificá-lo"
      ]
    },
    {
      "cell_type": "code",
      "metadata": {
        "colab": {
          "base_uri": "https://localhost:8080/"
        },
        "id": "CaytFMrpXQbh",
        "outputId": "33a34ca2-92db-4ef2-fa5e-3d6c1632b522"
      },
      "source": [
        "from google.colab import drive\n",
        "drive.mount('/content/drive')"
      ],
      "execution_count": 3,
      "outputs": [
        {
          "output_type": "stream",
          "text": [
            "Drive already mounted at /content/drive; to attempt to forcibly remount, call drive.mount(\"/content/drive\", force_remount=True).\n"
          ],
          "name": "stdout"
        }
      ]
    },
    {
      "cell_type": "markdown",
      "metadata": {
        "id": "GfeWMoV6ch35"
      },
      "source": [
        "#Manipulação de Arquivos"
      ]
    },
    {
      "cell_type": "code",
      "metadata": {
        "id": "Vv2cOHzEZOY9"
      },
      "source": [
        "arquivo = open(\"/content/drive/My Drive/Colab Notebooks/Santander Coders - Data Science/dom_casmurro_cap_1.txt\",\"r\")"
      ],
      "execution_count": 14,
      "outputs": []
    },
    {
      "cell_type": "code",
      "metadata": {
        "colab": {
          "base_uri": "https://localhost:8080/"
        },
        "id": "jMwZIrQwa9vp",
        "outputId": "f5db7bab-d27f-4c75-cf7e-5e604258bf06"
      },
      "source": [
        "dados = arquivo.read()\n",
        "print(dados)"
      ],
      "execution_count": 13,
      "outputs": [
        {
          "output_type": "stream",
          "text": [
            "Dom Casmurro \n",
            "\n",
            "Texto de referenda: \n",
            "Obras Completas de Machado de Assis, vol. I, \n",
            "Nova Aguilar, Rio de Janeiro, 1994. \n",
            "Publicado originalmente pela Editora Gamier, Rio de Janeiro, 1899. \n",
            "\n",
            "\n",
            "CAPITULO PRIMEIRO \n",
            "DO TITULO \n",
            "\n",
            "Uma noite destas, vindo da cidade para o Engenho Novo, encontrei no trem da \n",
            "Central um rapaz aqui do bairro, que eu conhego de vista e de chapeu. \n",
            "Cumprimentou-me, sentou-se ao pe de mim, falou da Lua e dos ministros, e \n",
            "acabou recitando-me versos. A viagem era curta, e os versos pode ser que nao \n",
            "fossem inteiramente maus. Sucedeu, porem, que, como eu estava cansado, fechei \n",
            "os olhos tres ou quatro vezes; tanto bastou para que ele interrompesse a leitura e \n",
            "metesse os versos no bolso. \n",
            "\n",
            "— Continue, disse eu acordando. \n",
            "\n",
            "— Ja acabei, murmurou ele. \n",
            "\n",
            "— Sao muito bonitos. \n",
            "\n",
            "Vi-lhe fazer um gesto para tira-los outra vez do bolso, mas nao passou do gesto; \n",
            "estava amuado. No dia seguinte entrou a dizer de mim nomes feios, e acabou \n",
            "alcunhando-me Dom Casmurro. Os vizinhos, que nao gostam dos meus habitos \n",
            "reclusos e calados, deram curso a alcunha, que afinal pegou. Nem por isso me \n",
            "zanguei. Contei a anedota aos amigos da cidade, e eles, por graga, chamam-me \n",
            "assim, alguns em bilhetes: \"Dom Casmurro, domingo vou jantar com voce”.— \n",
            "\"Vou para Petropolis, Dom Casmurro; a casa e a mesma da Renania; ve se deixas \n",
            "essa caverna do Engenho Novo, e vai la passar uns quinze dias comigo\".— \"Meu \n",
            "caro Dom Casmurro, nao cuide que o dispenso do teatro amanha; venha e dormira \n",
            "aqui na cidade; dou-lhe camarote, dou-lhe cha, dou-lhe cama; so nao Ihe dou \n",
            "moga”. \n",
            "\n",
            "Nao consultes dicionarios. Casmurro nao esta aqui no sentido que eles Ihe dao, \n",
            "mas no que Ihe pos o vulgo de homem calado e metido consigo. Dom veio por \n",
            "ironia, para atribuir-me fumos de fidalgo. Tudo por estar cochilando! Tambem nao \n",
            "achei melhor titulo para a minha narracao; se nao tiver outro daqui ate ao fim do \n",
            "livro, vai este mesmo. O meu poeta do trem ficara sabendo que nao Ihe guardo \n",
            "rancor. E com pequeno esforco, sendo o titulo seu, podera cuidar que a obra e \n",
            "sua. Ha livros que apenas terao isso dos seus autores; alguns nem tanto. \n",
            "\n"
          ],
          "name": "stdout"
        }
      ]
    },
    {
      "cell_type": "code",
      "metadata": {
        "colab": {
          "base_uri": "https://localhost:8080/"
        },
        "id": "va6lIKUZcgpB",
        "outputId": "8f37525b-61b4-4f75-89f7-47f4f6685a2e"
      },
      "source": [
        "#OU\n",
        "\n",
        "with open('/content/drive/My Drive/Colab Notebooks/Santander Coders - Data Science/dom_casmurro_cap_1.txt', 'r') as arquivo2:\n",
        "   dados2 = arquivo2.read()\n",
        "   print(dados2)"
      ],
      "execution_count": 15,
      "outputs": [
        {
          "output_type": "stream",
          "text": [
            "Dom Casmurro \n",
            "\n",
            "Texto de referenda: \n",
            "Obras Completas de Machado de Assis, vol. I, \n",
            "Nova Aguilar, Rio de Janeiro, 1994. \n",
            "Publicado originalmente pela Editora Gamier, Rio de Janeiro, 1899. \n",
            "\n",
            "\n",
            "CAPITULO PRIMEIRO \n",
            "DO TITULO \n",
            "\n",
            "Uma noite destas, vindo da cidade para o Engenho Novo, encontrei no trem da \n",
            "Central um rapaz aqui do bairro, que eu conhego de vista e de chapeu. \n",
            "Cumprimentou-me, sentou-se ao pe de mim, falou da Lua e dos ministros, e \n",
            "acabou recitando-me versos. A viagem era curta, e os versos pode ser que nao \n",
            "fossem inteiramente maus. Sucedeu, porem, que, como eu estava cansado, fechei \n",
            "os olhos tres ou quatro vezes; tanto bastou para que ele interrompesse a leitura e \n",
            "metesse os versos no bolso. \n",
            "\n",
            "— Continue, disse eu acordando. \n",
            "\n",
            "— Ja acabei, murmurou ele. \n",
            "\n",
            "— Sao muito bonitos. \n",
            "\n",
            "Vi-lhe fazer um gesto para tira-los outra vez do bolso, mas nao passou do gesto; \n",
            "estava amuado. No dia seguinte entrou a dizer de mim nomes feios, e acabou \n",
            "alcunhando-me Dom Casmurro. Os vizinhos, que nao gostam dos meus habitos \n",
            "reclusos e calados, deram curso a alcunha, que afinal pegou. Nem por isso me \n",
            "zanguei. Contei a anedota aos amigos da cidade, e eles, por graga, chamam-me \n",
            "assim, alguns em bilhetes: \"Dom Casmurro, domingo vou jantar com voce”.— \n",
            "\"Vou para Petropolis, Dom Casmurro; a casa e a mesma da Renania; ve se deixas \n",
            "essa caverna do Engenho Novo, e vai la passar uns quinze dias comigo\".— \"Meu \n",
            "caro Dom Casmurro, nao cuide que o dispenso do teatro amanha; venha e dormira \n",
            "aqui na cidade; dou-lhe camarote, dou-lhe cha, dou-lhe cama; so nao Ihe dou \n",
            "moga”. \n",
            "\n",
            "Nao consultes dicionarios. Casmurro nao esta aqui no sentido que eles Ihe dao, \n",
            "mas no que Ihe pos o vulgo de homem calado e metido consigo. Dom veio por \n",
            "ironia, para atribuir-me fumos de fidalgo. Tudo por estar cochilando! Tambem nao \n",
            "achei melhor titulo para a minha narracao; se nao tiver outro daqui ate ao fim do \n",
            "livro, vai este mesmo. O meu poeta do trem ficara sabendo que nao Ihe guardo \n",
            "rancor. E com pequeno esforco, sendo o titulo seu, podera cuidar que a obra e \n",
            "sua. Ha livros que apenas terao isso dos seus autores; alguns nem tanto. \n",
            "\n"
          ],
          "name": "stdout"
        }
      ]
    },
    {
      "cell_type": "code",
      "metadata": {
        "id": "ZlpqyI_5c51a"
      },
      "source": [
        "#LENDO LINHA A LINHA - EX\n",
        "\n",
        "with open('teste.txt', 'r') as arquivolido:\n",
        "   linha = arquivolido.readline()\n",
        "   while linha != '':\n",
        "       print(linha, end='')\n",
        "       linha = arquivolido.readline()\n",
        "\n",
        "\n",
        "# OU\n",
        "\n",
        "with open('teste.txt', 'r') as arquivolido:\n",
        "    for linha in arquivolido:\n",
        "        print(linha, end='')"
      ],
      "execution_count": null,
      "outputs": []
    },
    {
      "cell_type": "code",
      "metadata": {
        "id": "w9d0f3vudKB1"
      },
      "source": [
        "#O mesmo pode ser feito para escrever linha a linha no arquivo:\n",
        "\n",
        "with open('teste.txt', 'r') as arquivolido:\n",
        "    with open('copiateste.txt', 'w') as arquivocriado:\n",
        "        for linha in arquivolido:\n",
        "            arquivocriado.write(linha)"
      ],
      "execution_count": null,
      "outputs": []
    },
    {
      "cell_type": "code",
      "metadata": {
        "id": "Bm6JXk1mcRHW"
      },
      "source": [
        "#fechando o arquivo\n",
        "\n",
        "arquivo.close()"
      ],
      "execution_count": null,
      "outputs": []
    },
    {
      "cell_type": "markdown",
      "metadata": {
        "id": "CRFxUuundNq9"
      },
      "source": [
        "#Arquivos CSV"
      ]
    },
    {
      "cell_type": "code",
      "metadata": {
        "id": "S10C5PUBdzgt"
      },
      "source": [
        "import csv"
      ],
      "execution_count": 16,
      "outputs": []
    },
    {
      "cell_type": "code",
      "metadata": {
        "colab": {
          "base_uri": "https://localhost:8080/"
        },
        "id": "ZpAQ0VhcdxVa",
        "outputId": "c17b87ed-995b-47ef-eb58-c53090d32056"
      },
      "source": [
        "with open('/content/drive/My Drive/Colab Notebooks/Santander Coders - Data Science/brasilcovid.csv', 'r', encoding='utf-8') as file:\n",
        "   covid_data = csv.reader(file)\n",
        "   next(covid_data) #pula o header\n",
        "   for linha in covid_data:\n",
        "      if float(linha[2]) > 1: #novos casos>1\n",
        "        print(linha)"
      ],
      "execution_count": 20,
      "outputs": [
        {
          "output_type": "stream",
          "text": [
            "['2020-03-06', 'Brasil', '5', '0', '8', '0']\n",
            "['2020-03-07', 'Brasil', '5', '0', '13', '0']\n",
            "['2020-03-09', 'Brasil', '12', '0', '25', '0']\n",
            "['2020-03-11', 'Brasil', '9', '0', '34', '0']\n",
            "['2020-03-12', 'Brasil', '18', '0', '52', '0']\n",
            "['2020-03-13', 'Brasil', '25', '0', '77', '0']\n",
            "['2020-03-14', 'Brasil', '21', '0', '98', '0']\n",
            "['2020-03-15', 'Brasil', '23', '0', '121', '0']\n",
            "['2020-03-16', 'Brasil', '79', '0', '200', '0']\n",
            "['2020-03-17', 'Brasil', '34', '0', '234', '0']\n",
            "['2020-03-18', 'Brasil', '57', '1', '291', '1']\n",
            "['2020-03-19', 'Brasil', '137', '3', '428', '4']\n",
            "['2020-03-20', 'Brasil', '193', '2', '621', '6']\n",
            "['2020-03-21', 'Brasil', '283', '5', '904', '11']\n",
            "['2020-03-22', 'Brasil', '224', '7', '1128', '18']\n",
            "['2020-03-23', 'Brasil', '418', '7', '1546', '25']\n",
            "['2020-03-24', 'Brasil', '345', '9', '1891', '34']\n",
            "['2020-03-25', 'Brasil', '310', '12', '2201', '46']\n",
            "['2020-03-26', 'Brasil', '232', '11', '2433', '57']\n",
            "['2020-03-27', 'Brasil', '482', '20', '2915', '77']\n",
            "['2020-03-28', 'Brasil', '502', '15', '3417', '92']\n",
            "['2020-03-29', 'Brasil', '487', '22', '3904', '114']\n",
            "['2020-03-30', 'Brasil', '352', '22', '4256', '136']\n",
            "['2020-03-31', 'Brasil', '323', '23', '4579', '159']\n",
            "['2020-04-01', 'Brasil', '1138', '42', '5717', '201']\n",
            "['2020-04-02', 'Brasil', '1119', '40', '6836', '241']\n",
            "['2020-04-03', 'Brasil', '1074', '58', '7910', '299']\n",
            "['2020-04-04', 'Brasil', '1146', '60', '9056', '359']\n",
            "['2020-04-05', 'Brasil', '1222', '73', '10278', '432']\n",
            "['2020-04-06', 'Brasil', '852', '54', '11130', '486']\n",
            "['2020-04-07', 'Brasil', '926', '67', '12056', '553']\n",
            "['2020-04-08', 'Brasil', '1661', '114', '13717', '667']\n",
            "['2020-04-09', 'Brasil', '2210', '133', '15927', '800']\n",
            "['2020-04-10', 'Brasil', '1930', '141', '17857', '941']\n",
            "['2020-04-11', 'Brasil', '1781', '115', '19638', '1056']\n",
            "['2020-04-12', 'Brasil', '1089', '68', '20727', '1124']\n",
            "['2020-04-13', 'Brasil', '1442', '99', '22169', '1223']\n",
            "['2020-04-14', 'Brasil', '1261', '105', '23430', '1328']\n",
            "['2020-04-15', 'Brasil', '1832', '204', '25262', '1532']\n",
            "['2020-04-16', 'Brasil', '3058', '204', '28320', '1736']\n",
            "['2020-04-17', 'Brasil', '2105', '188', '30425', '1924']\n",
            "['2020-04-18', 'Brasil', '3257', '217', '33682', '2141']\n",
            "['2020-04-19', 'Brasil', '2917', '206', '36599', '2347']\n",
            "['2020-04-20', 'Brasil', '2055', '115', '38654', '2462']\n",
            "['2020-04-21', 'Brasil', '1927', '113', '40581', '2575']\n",
            "['2020-04-22', 'Brasil', '2498', '166', '43079', '2741']\n",
            "['2020-04-23', 'Brasil', '2678', '165', '45757', '2906']\n",
            "['2020-04-24', 'Brasil', '3735', '407', '49492', '3313']\n",
            "['2020-04-25', 'Brasil', '3503', '357', '52995', '3670']\n",
            "['2020-04-26', 'Brasil', '5514', '346', '58509', '4016']\n",
            "['2020-04-27', 'Brasil', '3379', '189', '61888', '4205']\n",
            "['2020-04-28', 'Brasil', '4613', '338', '66501', '4543']\n",
            "['2020-04-29', 'Brasil', '5385', '474', '71886', '5017']\n",
            "['2020-04-30', 'Brasil', '6276', '449', '78162', '5466']\n",
            "['2020-05-01', 'Brasil', '7218', '435', '85380', '5901']\n",
            "['2020-05-02', 'Brasil', '6209', '428', '91589', '6329']\n",
            "['2020-05-03', 'Brasil', '4970', '421', '96559', '6750']\n",
            "['2020-05-04', 'Brasil', '4588', '275', '101147', '7025']\n",
            "['2020-05-05', 'Brasil', '6633', '296', '107780', '7321']\n",
            "['2020-05-06', 'Brasil', '6935', '600', '114715', '7921']\n",
            "['2020-05-07', 'Brasil', '10503', '615', '125218', '8536']\n",
            "['2020-05-08', 'Brasil', '9888', '610', '135106', '9146']\n",
            "['2020-05-09', 'Brasil', '10222', '751', '145328', '9897']\n",
            "['2020-05-10', 'Brasil', '10611', '730', '155939', '10627']\n",
            "['2020-05-11', 'Brasil', '6760', '496', '162699', '11123']\n",
            "['2020-05-12', 'Brasil', '5632', '396', '168331', '11519']\n",
            "['2020-05-13', 'Brasil', '9258', '881', '177589', '12400']\n",
            "['2020-05-14', 'Brasil', '11385', '749', '188974', '13149']\n",
            "['2020-05-15', 'Brasil', '13944', '844', '202918', '13993']\n",
            "['2020-05-16', 'Brasil', '15305', '824', '218223', '14817']\n",
            "['2020-05-17', 'Brasil', '14919', '816', '233142', '15633']\n",
            "['2020-05-18', 'Brasil', '7938', '485', '241080', '16118']\n",
            "['2020-05-19', 'Brasil', '13140', '674', '254220', '16792']\n",
            "['2020-05-20', 'Brasil', '17408', '1179', '271628', '17971']\n",
            "['2020-05-21', 'Brasil', '19951', '888', '291579', '18859']\n",
            "['2020-05-22', 'Brasil', '18508', '1188', '310087', '20047']\n",
            "['2020-05-23', 'Brasil', '20803', '1001', '330890', '21048']\n",
            "['2020-05-24', 'Brasil', '16508', '965', '347398', '22013']\n",
            "['2020-05-25', 'Brasil', '15813', '653', '363211', '22666']\n",
            "['2020-05-26', 'Brasil', '11687', '807', '374898', '23473']\n",
            "['2020-05-27', 'Brasil', '16324', '1039', '391222', '24512']\n",
            "['2020-05-28', 'Brasil', '20599', '1086', '411821', '25598']\n",
            "['2020-05-29', 'Brasil', '26417', '1156', '438238', '26754']\n",
            "['2020-05-30', 'Brasil', '26928', '1124', '465166', '27878']\n",
            "['2020-05-31', 'Brasil', '33274', '956', '498440', '28834']\n",
            "['2020-06-01', 'Brasil', '16409', '480', '514849', '29314']\n",
            "['2020-06-02', 'Brasil', '11598', '623', '526447', '29937']\n",
            "['2020-06-03', 'Brasil', '28936', '1262', '555383', '31199']\n",
            "['2020-06-04', 'Brasil', '28633', '1349', '584016', '32548']\n",
            "['2020-06-05', 'Brasil', '30916', '1473', '614932', '34021']\n",
            "['2020-06-06', 'Brasil', '30830', '1005', '645762', '35026']\n",
            "['2020-06-07', 'Brasil', '27075', '904', '672837', '35930']\n",
            "['2020-06-08', 'Brasil', '18921', '525', '691758', '36455']\n",
            "['2020-06-09', 'Brasil', '15654', '679', '707412', '37134']\n",
            "['2020-06-10', 'Brasil', '32091', '1272', '739503', '38406']\n",
            "['2020-06-11', 'Brasil', '32913', '1274', '772416', '39680']\n",
            "['2020-06-12', 'Brasil', '30412', '1239', '802828', '40919']\n",
            "['2020-06-13', 'Brasil', '25982', '909', '828810', '41828']\n",
            "['2020-06-14', 'Brasil', '21704', '892', '850514', '42720']\n",
            "['2020-06-15', 'Brasil', '17110', '612', '867624', '43332']\n",
            "['2020-06-16', 'Brasil', '20647', '627', '888271', '43959']\n"
          ],
          "name": "stdout"
        }
      ]
    },
    {
      "cell_type": "code",
      "metadata": {
        "id": "Xwq-KHZpecIp"
      },
      "source": [
        "#escrevendo novo csv\n",
        "\n",
        "with open('/content/drive/My Drive/Colab Notebooks/Santander Coders - Data Science/novo_users.csv','w',encoding='utf-8', newline='') as file2:\n",
        "  datawriter = csv.writer(file2)\n",
        "  datawriter.writerow(['nome','sobrenome','idade','sexo'])\n",
        "  datawriter.writerow(['welliton','leal','27','masculino'])"
      ],
      "execution_count": 25,
      "outputs": []
    },
    {
      "cell_type": "code",
      "metadata": {
        "colab": {
          "base_uri": "https://localhost:8080/"
        },
        "id": "YUHDhPDZgr20",
        "outputId": "42f6612d-d1ca-4ac9-8f44-c805ee9f8f3c"
      },
      "source": [
        "#exemplo de cadastro\n",
        "\n",
        "header = ['nome','sobrenome']\n",
        "dados3 = []\n",
        "opt = input('O que deseja fazer? \\n1 - Cadastro \\n 0 - Sair\\n')\n",
        "while opt!= '0':\n",
        "  nome = input(\"Qual seu nome?\")\n",
        "  sobrenome = input(\"Qual seu sobrenome?\")\n",
        "  dados3.append([nome,sobrenome])\n",
        "  opt = input('O que deseja fazer? \\n1 - Cadastro \\n 0 - Sair\\n')\n",
        "\n",
        "print(dados3)"
      ],
      "execution_count": 32,
      "outputs": [
        {
          "output_type": "stream",
          "text": [
            "O que deseja fazer? \n",
            "1 - Cadastro \n",
            " 0 - Sair\n",
            "1\n",
            "Qual seu nome?welliton\n",
            "Qual seu sobrenome?leal\n",
            "O que deseja fazer? \n",
            "1 - Cadastro \n",
            " 0 - Sair\n",
            "1\n",
            "Qual seu nome?joão\n",
            "Qual seu sobrenome?silva\n",
            "O que deseja fazer? \n",
            "1 - Cadastro \n",
            " 0 - Sair\n",
            "0\n",
            "[['welliton', 'leal'], ['joão', 'silva']]\n"
          ],
          "name": "stdout"
        }
      ]
    },
    {
      "cell_type": "code",
      "metadata": {
        "id": "_bye2kh_i1Hh"
      },
      "source": [
        "with open('/content/drive/My Drive/Colab Notebooks/Santander Coders - Data Science/cadastro.csv','w',encoding='utf-8', newline='') as file3:\n",
        "  writer = csv.writer(file3)\n",
        "  writer.writerow(header)\n",
        "  writer.writerow(dados3)"
      ],
      "execution_count": 34,
      "outputs": []
    },
    {
      "cell_type": "code",
      "metadata": {
        "colab": {
          "base_uri": "https://localhost:8080/"
        },
        "id": "wQG3zvC5ksZ7",
        "outputId": "b4ef6614-1bb9-4665-f2bc-72372394862a"
      },
      "source": [
        "with open('/content/drive/My Drive/Colab Notebooks/Santander Coders - Data Science/cadastro.csv', 'r') as file:\n",
        "  csv_reader = csv.reader(file, delimiter=',')\n",
        "  for row in csv_reader:\n",
        "      print(row)"
      ],
      "execution_count": 41,
      "outputs": [
        {
          "output_type": "stream",
          "text": [
            "['nome', 'sobrenome']\n",
            "[\"['welliton', 'leal']\", \"['joão', 'silva']\"]\n"
          ],
          "name": "stdout"
        }
      ]
    },
    {
      "cell_type": "markdown",
      "metadata": {
        "id": "z8KiIxx3lLc7"
      },
      "source": [
        "#API's"
      ]
    },
    {
      "cell_type": "code",
      "metadata": {
        "colab": {
          "base_uri": "https://localhost:8080/"
        },
        "id": "4jFLKO2-lOAH",
        "outputId": "8808513f-6325-4eda-daf0-5dbc485f1743"
      },
      "source": [
        "!pip install requests"
      ],
      "execution_count": 44,
      "outputs": [
        {
          "output_type": "stream",
          "text": [
            "Requirement already satisfied: requests in /usr/local/lib/python3.7/dist-packages (2.23.0)\n",
            "Requirement already satisfied: certifi>=2017.4.17 in /usr/local/lib/python3.7/dist-packages (from requests) (2021.5.30)\n",
            "Requirement already satisfied: urllib3!=1.25.0,!=1.25.1,<1.26,>=1.21.1 in /usr/local/lib/python3.7/dist-packages (from requests) (1.24.3)\n",
            "Requirement already satisfied: chardet<4,>=3.0.2 in /usr/local/lib/python3.7/dist-packages (from requests) (3.0.4)\n",
            "Requirement already satisfied: idna<3,>=2.5 in /usr/local/lib/python3.7/dist-packages (from requests) (2.10)\n"
          ],
          "name": "stdout"
        }
      ]
    },
    {
      "cell_type": "code",
      "metadata": {
        "id": "QCgWKfzL2sNo"
      },
      "source": [
        "import requests"
      ],
      "execution_count": 45,
      "outputs": []
    },
    {
      "cell_type": "code",
      "metadata": {
        "colab": {
          "base_uri": "https://localhost:8080/"
        },
        "id": "HrndqsOw22D6",
        "outputId": "30c3a60f-bcd2-4c3a-a3b8-95dbbe5697e4"
      },
      "source": [
        "url = 'https://api.exchangerate-api.com/v6/latest'\n",
        "\n",
        "req = requests.get(url)\n",
        "\n",
        "print(req.status_code)"
      ],
      "execution_count": 46,
      "outputs": [
        {
          "output_type": "stream",
          "text": [
            "200\n"
          ],
          "name": "stdout"
        }
      ]
    },
    {
      "cell_type": "code",
      "metadata": {
        "colab": {
          "base_uri": "https://localhost:8080/"
        },
        "id": "4jF_H6Jy67sg",
        "outputId": "8b754ee5-ed6a-4b4d-c708-4fb17762a17a"
      },
      "source": [
        "data = req.json()\n",
        "print(data)"
      ],
      "execution_count": 47,
      "outputs": [
        {
          "output_type": "stream",
          "text": [
            "{'result': 'success', 'provider': 'https://www.exchangerate-api.com', 'documentation': 'https://www.exchangerate-api.com/docs/free', 'WARNING_NEW_ENDPOINT': 'Swap *api.exchangerate-api.com* with *open.er-api.com* for better servers!', 'terms_of_use': 'https://www.exchangerate-api.com/terms', 'time_last_update_unix': 1625356952, 'time_last_update_utc': 'Sun, 04 Jul 2021 00:02:32 +0000', 'time_next_update_unix': 1625445342, 'time_next_update_utc': 'Mon, 05 Jul 2021 00:35:42 +0000', 'time_eol_unix': 0, 'base_code': 'USD', 'rates': {'USD': 1, 'AED': 3.67, 'AFN': 79.42, 'ALL': 102.69, 'AMD': 495.5, 'ANG': 1.79, 'AOA': 650.19, 'ARS': 95.76, 'AUD': 1.33, 'AWG': 1.79, 'AZN': 1.7, 'BAM': 1.65, 'BBD': 2, 'BDT': 84.62, 'BGN': 1.65, 'BHD': 0.376, 'BIF': 1968.35, 'BMD': 1, 'BND': 1.35, 'BOB': 6.87, 'BRL': 5.03, 'BSD': 1, 'BTN': 74.62, 'BWP': 11.01, 'BYN': 2.54, 'BZD': 2, 'CAD': 1.24, 'CDF': 1988.62, 'CHF': 0.923, 'CLP': 737.69, 'CNY': 6.47, 'COP': 3737.79, 'CRC': 619.48, 'CUC': 1, 'CUP': 25.75, 'CVE': 92.94, 'CZK': 21.56, 'DJF': 177.72, 'DKK': 6.29, 'DOP': 56.89, 'DZD': 134.03, 'EGP': 15.65, 'ERN': 15, 'ETB': 43.88, 'EUR': 0.843, 'FJD': 2.07, 'FKP': 0.724, 'FOK': 6.29, 'GBP': 0.724, 'GEL': 3.16, 'GGP': 0.724, 'GHS': 5.89, 'GIP': 0.724, 'GMD': 51.99, 'GNF': 9819.77, 'GTQ': 7.74, 'GYD': 209.12, 'HKD': 7.76, 'HNL': 23.87, 'HRK': 6.35, 'HTG': 93.16, 'HUF': 296.75, 'IDR': 14554.76, 'ILS': 3.27, 'IMP': 0.724, 'INR': 74.62, 'IQD': 1459.39, 'IRR': 41883.62, 'ISK': 124.42, 'JMD': 149.76, 'JOD': 0.709, 'JPY': 111.27, 'KES': 107.77, 'KGS': 84.7, 'KHR': 4073.15, 'KID': 1.33, 'KMF': 414.67, 'KRW': 1134.3, 'KWD': 0.3, 'KYD': 0.833, 'KZT': 426.3, 'LAK': 9464.13, 'LBP': 1507.5, 'LKR': 199.18, 'LRD': 171.01, 'LSL': 14.31, 'LYD': 4.51, 'MAD': 8.92, 'MDL': 18.03, 'MGA': 3908.26, 'MKD': 52.17, 'MMK': 1642.85, 'MNT': 2855.18, 'MOP': 8, 'MRU': 36.16, 'MUR': 42.75, 'MVR': 15.4, 'MWK': 798.74, 'MXN': 19.88, 'MYR': 4.16, 'MZN': 63.81, 'NAD': 14.31, 'NGN': 429.18, 'NIO': 35.1, 'NOK': 8.62, 'NPR': 119.4, 'NZD': 1.43, 'OMR': 0.384, 'PAB': 1, 'PEN': 3.87, 'PGK': 3.5, 'PHP': 49.29, 'PKR': 157.49, 'PLN': 3.81, 'PYG': 6730.94, 'QAR': 3.64, 'RON': 4.15, 'RSD': 99.01, 'RUB': 73.44, 'RWF': 1004.66, 'SAR': 3.75, 'SBD': 7.91, 'SCR': 14.69, 'SDG': 452.41, 'SEK': 8.56, 'SGD': 1.35, 'SHP': 0.724, 'SLL': 10270.95, 'SOS': 578.78, 'SRD': 20.85, 'SSP': 177.61, 'STN': 20.65, 'SYP': 1304.5, 'SZL': 14.31, 'THB': 32.15, 'TJS': 11.31, 'TMT': 3.5, 'TND': 2.77, 'TOP': 2.23, 'TRY': 8.69, 'TTD': 6.74, 'TVD': 1.33, 'TWD': 27.92, 'TZS': 2315.9, 'UAH': 27.33, 'UGX': 3555.83, 'UYU': 43.51, 'UZS': 10545.74, 'VES': 3239490.65, 'VND': 22961.09, 'VUV': 109.95, 'WST': 2.54, 'XAF': 552.9, 'XCD': 2.7, 'XDR': 0.703, 'XOF': 552.9, 'XPF': 100.58, 'YER': 249.81, 'ZAR': 14.31, 'ZMW': 22.61}}\n"
          ],
          "name": "stdout"
        }
      ]
    },
    {
      "cell_type": "code",
      "metadata": {
        "colab": {
          "base_uri": "https://localhost:8080/"
        },
        "id": "RI0XBBhi7McD",
        "outputId": "a5eeb4d2-2281-4d74-8564-b49aba111930"
      },
      "source": [
        "valor_reais = float(input('Informe o valor em R$ a ser convertido\\n'))\n",
        "cotacao = data['rates']['BRL']\n",
        "print(f'R$ {valor_reais} em dólar valem US$ {(valor_reais / cotacao):.2f}')"
      ],
      "execution_count": 49,
      "outputs": [
        {
          "output_type": "stream",
          "text": [
            "Informe o valor em R$ a ser convertido\n",
            "150\n",
            "R$ 150.0 em dólar valem US$ 29.82\n"
          ],
          "name": "stdout"
        }
      ]
    }
  ]
}