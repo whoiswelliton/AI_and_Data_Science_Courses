{
  "nbformat": 4,
  "nbformat_minor": 0,
  "metadata": {
    "colab": {
      "name": "DIO_BancoCarrefour_Data_Engineer-Python_01.ipynb",
      "provenance": [],
      "collapsed_sections": []
    },
    "kernelspec": {
      "name": "python3",
      "display_name": "Python 3"
    },
    "language_info": {
      "name": "python"
    }
  },
  "cells": [
    {
      "cell_type": "markdown",
      "metadata": {
        "id": "pC-3lbnx1hNL"
      },
      "source": [
        "Desafio 01 - Notas da Prova"
      ]
    },
    {
      "cell_type": "code",
      "metadata": {
        "id": "qA6g_57t2MfP"
      },
      "source": [
        "nota = int(input())\n",
        "\n",
        "if 0 <= nota < 1:\n",
        "    print('E')\n",
        "elif 1 <= nota <= 35:\n",
        "    print('D')\n",
        "elif 36 <= nota <= 60:\n",
        "    print('C')\n",
        "elif 61 <= nota <= 85:\n",
        "    print('B')\n",
        "elif 86 <= nota <= 100:\n",
        "    print('A')"
      ],
      "execution_count": null,
      "outputs": []
    },
    {
      "cell_type": "markdown",
      "metadata": {
        "id": "2UchdnsQ1jhH"
      },
      "source": [
        "Desafio 02 - Preenchimento de Vetor I"
      ]
    },
    {
      "cell_type": "code",
      "metadata": {
        "id": "fnkKzCmm2KyD"
      },
      "source": [
        "N = [None]*10\n",
        "x = int(input())\n",
        "\n",
        "for i in range (0, 10):\n",
        "    N[i] = x\n",
        "    print(f\"N[{i}] = {x}\")\n",
        "    x = x*2"
      ],
      "execution_count": null,
      "outputs": []
    },
    {
      "cell_type": "markdown",
      "metadata": {
        "id": "FJ7gphvo16J2"
      },
      "source": [
        "Desafio 03 - Triângulo"
      ]
    },
    {
      "cell_type": "code",
      "metadata": {
        "id": "Ep-I_tWW2IQY"
      },
      "source": [
        "string = input().split()\n",
        "\n",
        "a = float(string[0])\n",
        "b = float(string[1])\n",
        "c = float(string[2])\n",
        "\n",
        "if ((a + b) > c ) and ((b + c) > a) and ((a + c) > b):\n",
        "  print('Perimetro = %.1f' % (a + b + c))\n",
        "\n",
        "else:\n",
        "  print('Area = %.1f' % (((a + b) * c)/2))"
      ],
      "execution_count": null,
      "outputs": []
    }
  ]
}