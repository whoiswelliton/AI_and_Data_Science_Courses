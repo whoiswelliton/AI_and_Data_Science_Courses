{
  "nbformat": 4,
  "nbformat_minor": 0,
  "metadata": {
    "colab": {
      "name": "DIO_BancoCarrefour_Data_Engineer-Python02.ipynb",
      "provenance": [],
      "collapsed_sections": []
    },
    "kernelspec": {
      "name": "python3",
      "display_name": "Python 3"
    },
    "language_info": {
      "name": "python"
    }
  },
  "cells": [
    {
      "cell_type": "markdown",
      "metadata": {
        "id": "OfztLLN_2m6Z"
      },
      "source": [
        "Desafio 1 - Média 3"
      ]
    },
    {
      "cell_type": "code",
      "metadata": {
        "id": "578QNQnz2yLI"
      },
      "source": [
        "n1, n2, n3, n4= input().split()\n",
        "n1 = float(n1)\n",
        "n2 = float(n2)\n",
        "n3 = float(n3)\n",
        "n4 = float(n4)\n",
        "\n",
        "\n",
        "media = (n1 * 0.2)+(n2 * 0.3)+(n3 * 0.4)+(n4 * 0.1)\n",
        "\n",
        "print('Media: %.1f' %media)\n",
        "\n",
        "if (media > 7.0):\n",
        "  print('Aluno aprovado.')\n",
        "\n",
        "elif(media < 5.0):\n",
        "  print('Aluno reprovado.')\n",
        "\n",
        "elif media >= 5 and media <= 6.9:\n",
        "  print('Aluno em exame.')\n",
        "\n",
        "  n5 = float(input())\n",
        "  final = (n5+media)/2\n",
        "\n",
        "  print('Nota do exame:', n5)\n",
        "\n",
        "  if final >= 5.0:\n",
        "    print('Aluno aprovado.')\n",
        "    print('Media final: %.1f' %final)\n",
        "\n",
        "  else:\n",
        "    print('Aluno reprovado')\n",
        "    print('Media final: %.1f' % final)"
      ],
      "execution_count": null,
      "outputs": []
    },
    {
      "cell_type": "markdown",
      "metadata": {
        "id": "Z6Zoj5_52rsS"
      },
      "source": [
        "Desafio 2 - Folha de Pagamento"
      ]
    },
    {
      "cell_type": "code",
      "metadata": {
        "id": "sHVX0gCU2qun"
      },
      "source": [
        "emp_no = int(input())\n",
        "\n",
        "worked_hours = int(input())\n",
        "\n",
        "receives_per_worked_hour = float(input())\n",
        "\n",
        "salary = worked_hours*receives_per_worked_hour\n",
        "\n",
        "print(\"NUMBER =\",emp_no,end=\"\\n\")\n",
        "print(\"SALARY = U$ %0.2f\"%salary,end=\"\\n\")"
      ],
      "execution_count": null,
      "outputs": []
    },
    {
      "cell_type": "markdown",
      "metadata": {
        "id": "iZivUhRg24Tg"
      },
      "source": [
        "Desafio 3 - Validação de Notas"
      ]
    },
    {
      "cell_type": "code",
      "metadata": {
        "id": "U8WKZh1V27ZD"
      },
      "source": [
        "def notas_media(x, y):\n",
        "\n",
        "  media = (x + y)/2\n",
        "  media = '%.2f' % media\n",
        "  print('media =',media)\n",
        "\n",
        "def notas_validas():\n",
        "\n",
        "  x = float(input())\n",
        "  \n",
        "  if 0 <= x <= 10:\n",
        "\n",
        "    return x\n",
        "\n",
        "  else:\n",
        "\n",
        "    print('nota invalida')\n",
        "    return notas_validas()\n",
        "\n",
        "choice = 1\n",
        "\n",
        "while choice == 1:\n",
        "  j = -1\n",
        "  k = -1\n",
        "\n",
        "  while k==-1:\n",
        "    k = notas_validas()\n",
        "\n",
        "  while j==-1:\n",
        "    j = notas_validas()\n",
        "\n",
        "  notas_media(k,j)\n",
        "  choice =3\n",
        "  \n",
        "  while choice<1 or choice>2:\n",
        "    choice = eval(input('novo calculo (1-sim 2-nao)\\n'))"
      ],
      "execution_count": null,
      "outputs": []
    }
  ]
}