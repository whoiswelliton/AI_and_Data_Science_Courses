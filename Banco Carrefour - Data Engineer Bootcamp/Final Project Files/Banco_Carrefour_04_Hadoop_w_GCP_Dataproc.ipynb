{
  "nbformat": 4,
  "nbformat_minor": 0,
  "metadata": {
    "colab": {
      "name": "BancoCarrefour_Data_Engineer-Hadoop_with_GCP_Dataproc.ipynb",
      "provenance": [],
      "collapsed_sections": [
        "vekLxPeFX6gX",
        "rysYfHmfYPEb"
      ]
    },
    "kernelspec": {
      "name": "python3",
      "display_name": "Python 3"
    },
    "language_info": {
      "name": "python"
    }
  },
  "cells": [
    {
      "cell_type": "code",
      "metadata": {
        "colab": {
          "base_uri": "https://localhost:8080/"
        },
        "id": "uFvBe105S7jU",
        "outputId": "872de74e-88b8-41cb-f609-bb16eec63e74"
      },
      "source": [
        "from google.colab import drive\n",
        "drive.mount('/content/drive')"
      ],
      "execution_count": 2,
      "outputs": [
        {
          "output_type": "stream",
          "name": "stdout",
          "text": [
            "Mounted at /content/drive\n"
          ]
        }
      ]
    },
    {
      "cell_type": "markdown",
      "metadata": {
        "id": "rysYfHmfYPEb"
      },
      "source": [
        "#Top 10 Words"
      ]
    },
    {
      "cell_type": "code",
      "metadata": {
        "id": "xDDQnnafUP5Q"
      },
      "source": [
        "import pandas as pd\n",
        "import matplotlib.pyplot as plt"
      ],
      "execution_count": 185,
      "outputs": []
    },
    {
      "cell_type": "code",
      "metadata": {
        "id": "gjIELJ1xUT6Z"
      },
      "source": [
        "df = pd.read_csv(\"/content/drive/MyDrive/Colab Notebooks/Banco Carrefour/datasets/resultado_part-00000.txt\",sep=\",\", header=None, names=[\"WORD\", \"COUNT\"])"
      ],
      "execution_count": 186,
      "outputs": []
    },
    {
      "cell_type": "code",
      "metadata": {
        "colab": {
          "base_uri": "https://localhost:8080/",
          "height": 355
        },
        "id": "LP0dNd-23sKH",
        "outputId": "2a017a64-f4b6-4cfd-a118-63f5c4f4908a"
      },
      "source": [
        "df.head(10)"
      ],
      "execution_count": 187,
      "outputs": [
        {
          "output_type": "execute_result",
          "data": {
            "text/html": [
              "<div>\n",
              "<style scoped>\n",
              "    .dataframe tbody tr th:only-of-type {\n",
              "        vertical-align: middle;\n",
              "    }\n",
              "\n",
              "    .dataframe tbody tr th {\n",
              "        vertical-align: top;\n",
              "    }\n",
              "\n",
              "    .dataframe thead th {\n",
              "        text-align: right;\n",
              "    }\n",
              "</style>\n",
              "<table border=\"1\" class=\"dataframe\">\n",
              "  <thead>\n",
              "    <tr style=\"text-align: right;\">\n",
              "      <th></th>\n",
              "      <th>WORD</th>\n",
              "      <th>COUNT</th>\n",
              "    </tr>\n",
              "  </thead>\n",
              "  <tbody>\n",
              "    <tr>\n",
              "      <th>0</th>\n",
              "      <td>('the'</td>\n",
              "      <td>4066)</td>\n",
              "    </tr>\n",
              "    <tr>\n",
              "      <th>1</th>\n",
              "      <td>('and'</td>\n",
              "      <td>2969)</td>\n",
              "    </tr>\n",
              "    <tr>\n",
              "      <th>2</th>\n",
              "      <td>('of'</td>\n",
              "      <td>2746)</td>\n",
              "    </tr>\n",
              "    <tr>\n",
              "      <th>3</th>\n",
              "      <td>('I'</td>\n",
              "      <td>2719)</td>\n",
              "    </tr>\n",
              "    <tr>\n",
              "      <th>4</th>\n",
              "      <td>('to'</td>\n",
              "      <td>2144)</td>\n",
              "    </tr>\n",
              "    <tr>\n",
              "      <th>5</th>\n",
              "      <td>('my'</td>\n",
              "      <td>1631)</td>\n",
              "    </tr>\n",
              "    <tr>\n",
              "      <th>6</th>\n",
              "      <td>('a'</td>\n",
              "      <td>1394)</td>\n",
              "    </tr>\n",
              "    <tr>\n",
              "      <th>7</th>\n",
              "      <td>(''</td>\n",
              "      <td>1186)</td>\n",
              "    </tr>\n",
              "    <tr>\n",
              "      <th>8</th>\n",
              "      <td>('in'</td>\n",
              "      <td>1129)</td>\n",
              "    </tr>\n",
              "    <tr>\n",
              "      <th>9</th>\n",
              "      <td>('was'</td>\n",
              "      <td>994)</td>\n",
              "    </tr>\n",
              "  </tbody>\n",
              "</table>\n",
              "</div>"
            ],
            "text/plain": [
              "     WORD   COUNT\n",
              "0  ('the'   4066)\n",
              "1  ('and'   2969)\n",
              "2   ('of'   2746)\n",
              "3    ('I'   2719)\n",
              "4   ('to'   2144)\n",
              "5   ('my'   1631)\n",
              "6    ('a'   1394)\n",
              "7     (''   1186)\n",
              "8   ('in'   1129)\n",
              "9  ('was'    994)"
            ]
          },
          "metadata": {},
          "execution_count": 187
        }
      ]
    },
    {
      "cell_type": "code",
      "metadata": {
        "colab": {
          "base_uri": "https://localhost:8080/"
        },
        "id": "WdtsVVd_V-3U",
        "outputId": "5031a752-a03b-4b1e-f698-cb2c34e7538b"
      },
      "source": [
        "df.shape"
      ],
      "execution_count": 188,
      "outputs": [
        {
          "output_type": "execute_result",
          "data": {
            "text/plain": [
              "(12110, 2)"
            ]
          },
          "metadata": {},
          "execution_count": 188
        }
      ]
    },
    {
      "cell_type": "markdown",
      "metadata": {
        "id": "TYwXroJd6drv"
      },
      "source": [
        "> Removing all the special characters"
      ]
    },
    {
      "cell_type": "code",
      "metadata": {
        "id": "hANcX2yBtKEe"
      },
      "source": [
        "df = df.replace(r\"[^0-9a-zA-Z ]\", '', regex=True).replace(\"'\", '')"
      ],
      "execution_count": 189,
      "outputs": []
    },
    {
      "cell_type": "code",
      "metadata": {
        "id": "XpbbeF2JBXKq"
      },
      "source": [
        "df.at[7,\"WORD\"] = '\"'"
      ],
      "execution_count": 199,
      "outputs": []
    },
    {
      "cell_type": "code",
      "metadata": {
        "colab": {
          "base_uri": "https://localhost:8080/",
          "height": 202
        },
        "id": "MnqX_yrCUwJ3",
        "outputId": "06d278fb-8bde-4101-b1d2-e4ccccc0f528"
      },
      "source": [
        "df.head(5)"
      ],
      "execution_count": 191,
      "outputs": [
        {
          "output_type": "execute_result",
          "data": {
            "text/html": [
              "<div>\n",
              "<style scoped>\n",
              "    .dataframe tbody tr th:only-of-type {\n",
              "        vertical-align: middle;\n",
              "    }\n",
              "\n",
              "    .dataframe tbody tr th {\n",
              "        vertical-align: top;\n",
              "    }\n",
              "\n",
              "    .dataframe thead th {\n",
              "        text-align: right;\n",
              "    }\n",
              "</style>\n",
              "<table border=\"1\" class=\"dataframe\">\n",
              "  <thead>\n",
              "    <tr style=\"text-align: right;\">\n",
              "      <th></th>\n",
              "      <th>WORD</th>\n",
              "      <th>COUNT</th>\n",
              "    </tr>\n",
              "  </thead>\n",
              "  <tbody>\n",
              "    <tr>\n",
              "      <th>0</th>\n",
              "      <td>the</td>\n",
              "      <td>4066</td>\n",
              "    </tr>\n",
              "    <tr>\n",
              "      <th>1</th>\n",
              "      <td>and</td>\n",
              "      <td>2969</td>\n",
              "    </tr>\n",
              "    <tr>\n",
              "      <th>2</th>\n",
              "      <td>of</td>\n",
              "      <td>2746</td>\n",
              "    </tr>\n",
              "    <tr>\n",
              "      <th>3</th>\n",
              "      <td>I</td>\n",
              "      <td>2719</td>\n",
              "    </tr>\n",
              "    <tr>\n",
              "      <th>4</th>\n",
              "      <td>to</td>\n",
              "      <td>2144</td>\n",
              "    </tr>\n",
              "  </tbody>\n",
              "</table>\n",
              "</div>"
            ],
            "text/plain": [
              "  WORD  COUNT\n",
              "0  the   4066\n",
              "1  and   2969\n",
              "2   of   2746\n",
              "3    I   2719\n",
              "4   to   2144"
            ]
          },
          "metadata": {},
          "execution_count": 191
        }
      ]
    },
    {
      "cell_type": "markdown",
      "metadata": {
        "id": "s282L4yf6lWT"
      },
      "source": [
        "> Changing the COUNT column to int type"
      ]
    },
    {
      "cell_type": "code",
      "metadata": {
        "id": "WCfzRR3f5NwS"
      },
      "source": [
        "df[\"COUNT\"] = pd.to_numeric(df[\"COUNT\"], downcast=\"integer\", errors='coerce')"
      ],
      "execution_count": 192,
      "outputs": []
    },
    {
      "cell_type": "code",
      "metadata": {
        "colab": {
          "base_uri": "https://localhost:8080/"
        },
        "id": "802eTZpxWA3y",
        "outputId": "64a7c7bb-e11d-411b-df7f-303bb91d2c0b"
      },
      "source": [
        "df.dtypes"
      ],
      "execution_count": 193,
      "outputs": [
        {
          "output_type": "execute_result",
          "data": {
            "text/plain": [
              "WORD      object\n",
              "COUNT    float64\n",
              "dtype: object"
            ]
          },
          "metadata": {},
          "execution_count": 193
        }
      ]
    },
    {
      "cell_type": "markdown",
      "metadata": {
        "id": "B2A78Ts6_Jhk"
      },
      "source": [
        "> Caching the 10 words with the largest numbers in count column"
      ]
    },
    {
      "cell_type": "code",
      "metadata": {
        "id": "6KxWxGQe_G-K"
      },
      "source": [
        "top_ten = df.nlargest(10, ['COUNT'])"
      ],
      "execution_count": 201,
      "outputs": []
    },
    {
      "cell_type": "code",
      "metadata": {
        "colab": {
          "base_uri": "https://localhost:8080/",
          "height": 355
        },
        "id": "JQRlG2W7_ald",
        "outputId": "fa6f8a55-3294-4a40-84d1-d09235b610b3"
      },
      "source": [
        "top_ten"
      ],
      "execution_count": 202,
      "outputs": [
        {
          "output_type": "execute_result",
          "data": {
            "text/html": [
              "<div>\n",
              "<style scoped>\n",
              "    .dataframe tbody tr th:only-of-type {\n",
              "        vertical-align: middle;\n",
              "    }\n",
              "\n",
              "    .dataframe tbody tr th {\n",
              "        vertical-align: top;\n",
              "    }\n",
              "\n",
              "    .dataframe thead th {\n",
              "        text-align: right;\n",
              "    }\n",
              "</style>\n",
              "<table border=\"1\" class=\"dataframe\">\n",
              "  <thead>\n",
              "    <tr style=\"text-align: right;\">\n",
              "      <th></th>\n",
              "      <th>WORD</th>\n",
              "      <th>COUNT</th>\n",
              "    </tr>\n",
              "  </thead>\n",
              "  <tbody>\n",
              "    <tr>\n",
              "      <th>0</th>\n",
              "      <td>the</td>\n",
              "      <td>4066.0</td>\n",
              "    </tr>\n",
              "    <tr>\n",
              "      <th>1</th>\n",
              "      <td>and</td>\n",
              "      <td>2969.0</td>\n",
              "    </tr>\n",
              "    <tr>\n",
              "      <th>2</th>\n",
              "      <td>of</td>\n",
              "      <td>2746.0</td>\n",
              "    </tr>\n",
              "    <tr>\n",
              "      <th>3</th>\n",
              "      <td>I</td>\n",
              "      <td>2719.0</td>\n",
              "    </tr>\n",
              "    <tr>\n",
              "      <th>4</th>\n",
              "      <td>to</td>\n",
              "      <td>2144.0</td>\n",
              "    </tr>\n",
              "    <tr>\n",
              "      <th>5</th>\n",
              "      <td>my</td>\n",
              "      <td>1631.0</td>\n",
              "    </tr>\n",
              "    <tr>\n",
              "      <th>6</th>\n",
              "      <td>a</td>\n",
              "      <td>1394.0</td>\n",
              "    </tr>\n",
              "    <tr>\n",
              "      <th>7</th>\n",
              "      <td>\"</td>\n",
              "      <td>1186.0</td>\n",
              "    </tr>\n",
              "    <tr>\n",
              "      <th>8</th>\n",
              "      <td>in</td>\n",
              "      <td>1129.0</td>\n",
              "    </tr>\n",
              "    <tr>\n",
              "      <th>9</th>\n",
              "      <td>was</td>\n",
              "      <td>994.0</td>\n",
              "    </tr>\n",
              "  </tbody>\n",
              "</table>\n",
              "</div>"
            ],
            "text/plain": [
              "  WORD   COUNT\n",
              "0  the  4066.0\n",
              "1  and  2969.0\n",
              "2   of  2746.0\n",
              "3    I  2719.0\n",
              "4   to  2144.0\n",
              "5   my  1631.0\n",
              "6    a  1394.0\n",
              "7    \"  1186.0\n",
              "8   in  1129.0\n",
              "9  was   994.0"
            ]
          },
          "metadata": {},
          "execution_count": 202
        }
      ]
    },
    {
      "cell_type": "code",
      "metadata": {
        "colab": {
          "base_uri": "https://localhost:8080/",
          "height": 327
        },
        "id": "XNzZq3-zE8VH",
        "outputId": "23db005d-3419-4a90-e8b8-c072eee2a3d5"
      },
      "source": [
        "top_ten.groupby(\"WORD\")[\"COUNT\"].sum().plot.bar(title=\"WORD x COUNT\")\n",
        "plt.xlabel(\"Word\")\n",
        "plt.ylabel(\"Quantity\")\n",
        "plt.xticks(rotation='horizontal')"
      ],
      "execution_count": 196,
      "outputs": [
        {
          "output_type": "execute_result",
          "data": {
            "text/plain": [
              "(array([0, 1, 2, 3, 4, 5, 6, 7, 8, 9]),\n",
              " <a list of 10 Text major ticklabel objects>)"
            ]
          },
          "metadata": {},
          "execution_count": 196
        },
        {
          "output_type": "display_data",
          "data": {
            "image/png": "[encoded data removed]",
            "text/plain": [
              "<Figure size 432x288 with 1 Axes>"
            ]
          },
          "metadata": {
            "needs_background": "light"
          }
        }
      ]
    },
    {
      "cell_type": "code",
      "metadata": {
        "id": "sAMny7WzE4YT"
      },
      "source": [
        "df.to_csv(\"words_df.csv\", index=False)"
      ],
      "execution_count": 206,
      "outputs": []
    },
    {
      "cell_type": "code",
      "metadata": {
        "id": "EaDkQQiRF8Y_"
      },
      "source": [
        "top_ten.to_csv(\"resultado.txt\", index=False)"
      ],
      "execution_count": 205,
      "outputs": []
    }
  ]
}