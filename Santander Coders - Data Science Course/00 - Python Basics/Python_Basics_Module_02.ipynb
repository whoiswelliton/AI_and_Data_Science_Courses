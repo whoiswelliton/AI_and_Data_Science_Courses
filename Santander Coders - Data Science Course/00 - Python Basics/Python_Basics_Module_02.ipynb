{
  "nbformat": 4,
  "nbformat_minor": 0,
  "metadata": {
    "colab": {
      "name": "Python Basics - Module 02.ipynb",
      "provenance": [],
      "collapsed_sections": [
        "dIMiC0Sf0wN3",
        "iqI0Ieiu13P0"
      ]
    },
    "kernelspec": {
      "name": "python3",
      "display_name": "Python 3"
    },
    "language_info": {
      "name": "python"
    }
  },
  "cells": [
    {
      "cell_type": "markdown",
      "metadata": {
        "id": "dIMiC0Sf0wN3"
      },
      "source": [
        "#Listas"
      ]
    },
    {
      "cell_type": "code",
      "metadata": {
        "colab": {
          "base_uri": "https://localhost:8080/"
        },
        "id": "qLF79gpIrfxa",
        "outputId": "1e6efd6f-6258-4f62-c2dd-c22b1a354b93"
      },
      "source": [
        "# Criando uma lista vazia.\n",
        "listavazia = []\n",
        "\n",
        "# Criando uma lista com alguns valores.\n",
        "numeros = [1, 3, 7, 8, 9]\n",
        "\n",
        "# Listas podem mesclar diferentes tipos de valores.\n",
        "listamista = [14, \"let's code\", 0.1, True]\n",
        "\n",
        "print(numeros)\n",
        "print(listamista)"
      ],
      "execution_count": null,
      "outputs": [
        {
          "output_type": "stream",
          "text": [
            "[1, 3, 7, 8, 9]\n",
            "[14, \"let's code\", 0.1, True]\n"
          ],
          "name": "stdout"
        }
      ]
    },
    {
      "cell_type": "code",
      "metadata": {
        "colab": {
          "base_uri": "https://localhost:8080/"
        },
        "id": "f_-YB4NW09G8",
        "outputId": "0e89af14-424e-4885-abfb-5eab139b6135"
      },
      "source": [
        "# Acessamos cada elemento da lista através de um índice entre colchetes.\n",
        "# Os índices começam em 0.\n",
        "print(numeros[0])\n",
        "print(numeros[1])\n",
        "print(numeros[2])\n",
        "print(numeros[3])\n",
        "print(numeros[4])\n",
        "\n",
        "# Listas são mutáveis: podemos alterar o valor de seus itens.\n",
        "numeros[2] = 5\n",
        "print(numeros)"
      ],
      "execution_count": null,
      "outputs": [
        {
          "output_type": "stream",
          "text": [
            "1\n",
            "3\n",
            "7\n",
            "8\n",
            "9\n",
            "[1, 3, 5, 8, 9]\n"
          ],
          "name": "stdout"
        }
      ]
    },
    {
      "cell_type": "code",
      "metadata": {
        "colab": {
          "base_uri": "https://localhost:8080/"
        },
        "id": "zsqMN-Xq1CBt",
        "outputId": "2f5eec00-ac39-446f-891d-ffea721cac37"
      },
      "source": [
        "# Um jeito inteligente de trabalhar com listas é utilizando loops.\n",
        "indice = 0\n",
        "while indice < 5:\n",
        "    print(numeros[indice])\n",
        "    indice = indice + 1"
      ],
      "execution_count": null,
      "outputs": [
        {
          "output_type": "stream",
          "text": [
            "1\n",
            "3\n",
            "5\n",
            "8\n",
            "9\n"
          ],
          "name": "stdout"
        }
      ]
    },
    {
      "cell_type": "code",
      "metadata": {
        "colab": {
          "base_uri": "https://localhost:8080/"
        },
        "id": "Ifo83xUEfn4B",
        "outputId": "49657ee8-cf37-408f-b05d-004921c2d72d"
      },
      "source": [
        "nome_paises = ['Brasil', 'China', 'Canadá','Japão', 'Argentina']\n",
        "nome_paises"
      ],
      "execution_count": 2,
      "outputs": [
        {
          "output_type": "execute_result",
          "data": {
            "text/plain": [
              "['Brasil', 'China', 'Canadá', 'Japão', 'Argentina']"
            ]
          },
          "metadata": {
            "tags": []
          },
          "execution_count": 2
        }
      ]
    },
    {
      "cell_type": "code",
      "metadata": {
        "colab": {
          "base_uri": "https://localhost:8080/"
        },
        "id": "AkkHXlnOf4hi",
        "outputId": "47111139-49c6-430e-bbb8-ee5f1d4aa114"
      },
      "source": [
        "len(nome_paises)"
      ],
      "execution_count": 4,
      "outputs": [
        {
          "output_type": "execute_result",
          "data": {
            "text/plain": [
              "5"
            ]
          },
          "metadata": {
            "tags": []
          },
          "execution_count": 4
        }
      ]
    },
    {
      "cell_type": "code",
      "metadata": {
        "colab": {
          "base_uri": "https://localhost:8080/",
          "height": 35
        },
        "id": "CFm5UFS0f9dZ",
        "outputId": "e4e7750b-dfe5-41e3-faef-ccd0a444f9e2"
      },
      "source": [
        "nome_paises[4]"
      ],
      "execution_count": 7,
      "outputs": [
        {
          "output_type": "execute_result",
          "data": {
            "application/vnd.google.colaboratory.intrinsic+json": {
              "type": "string"
            },
            "text/plain": [
              "'Argentina'"
            ]
          },
          "metadata": {
            "tags": []
          },
          "execution_count": 7
        }
      ]
    },
    {
      "cell_type": "code",
      "metadata": {
        "colab": {
          "base_uri": "https://localhost:8080/",
          "height": 35
        },
        "id": "_T8TKr1ngGEN",
        "outputId": "45d962fa-d687-411d-eaee-8161c4e65738"
      },
      "source": [
        "nome_paises[-2]"
      ],
      "execution_count": 8,
      "outputs": [
        {
          "output_type": "execute_result",
          "data": {
            "application/vnd.google.colaboratory.intrinsic+json": {
              "type": "string"
            },
            "text/plain": [
              "'Japão'"
            ]
          },
          "metadata": {
            "tags": []
          },
          "execution_count": 8
        }
      ]
    },
    {
      "cell_type": "code",
      "metadata": {
        "id": "HkT6W2PhgkC2"
      },
      "source": [
        "nome_paises[3] = 'Colômbia' "
      ],
      "execution_count": 11,
      "outputs": []
    },
    {
      "cell_type": "code",
      "metadata": {
        "colab": {
          "base_uri": "https://localhost:8080/"
        },
        "id": "TIcuQSQ_grUN",
        "outputId": "d5256964-8382-425b-fba9-c028bbbbe7ee"
      },
      "source": [
        "print(nome_paises)"
      ],
      "execution_count": 12,
      "outputs": [
        {
          "output_type": "stream",
          "text": [
            "['Brasil', 'China', 'Canadá', 'Colômbia', 'Argentina']\n"
          ],
          "name": "stdout"
        }
      ]
    },
    {
      "cell_type": "code",
      "metadata": {
        "colab": {
          "base_uri": "https://localhost:8080/"
        },
        "id": "cY6CxVlBhA7J",
        "outputId": "e0d91440-973a-4718-fcf9-30fd9882270d"
      },
      "source": [
        "print(nome_paises[:])"
      ],
      "execution_count": 14,
      "outputs": [
        {
          "output_type": "stream",
          "text": [
            "['Brasil', 'China', 'Canadá', 'Colômbia', 'Argentina']\n"
          ],
          "name": "stdout"
        }
      ]
    },
    {
      "cell_type": "code",
      "metadata": {
        "colab": {
          "base_uri": "https://localhost:8080/"
        },
        "id": "d9UWt01phEy2",
        "outputId": "801cc944-876a-48df-f5c1-4f170f947768"
      },
      "source": [
        "print(nome_paises[2:4])"
      ],
      "execution_count": 16,
      "outputs": [
        {
          "output_type": "stream",
          "text": [
            "['Canadá', 'Colômbia']\n"
          ],
          "name": "stdout"
        }
      ]
    },
    {
      "cell_type": "code",
      "metadata": {
        "colab": {
          "base_uri": "https://localhost:8080/"
        },
        "id": "l20h8NcLhJnq",
        "outputId": "cd49b9f7-29fc-4ae9-8de9-a7a2ca86303b"
      },
      "source": [
        "print(nome_paises[1:-1])"
      ],
      "execution_count": 18,
      "outputs": [
        {
          "output_type": "stream",
          "text": [
            "['China', 'Canadá', 'Colômbia']\n"
          ],
          "name": "stdout"
        }
      ]
    },
    {
      "cell_type": "code",
      "metadata": {
        "colab": {
          "base_uri": "https://localhost:8080/"
        },
        "id": "vCsDT841hOId",
        "outputId": "d66674db-dcab-4e92-dc0f-79e34879a1e8"
      },
      "source": [
        "print(nome_paises[3:])"
      ],
      "execution_count": 19,
      "outputs": [
        {
          "output_type": "stream",
          "text": [
            "['Colômbia', 'Argentina']\n"
          ],
          "name": "stdout"
        }
      ]
    },
    {
      "cell_type": "code",
      "metadata": {
        "colab": {
          "base_uri": "https://localhost:8080/"
        },
        "id": "38Pqbvg2hR3Q",
        "outputId": "bec54c08-687c-4280-85c3-3fa4e0040147"
      },
      "source": [
        "print(nome_paises[::-1])"
      ],
      "execution_count": 20,
      "outputs": [
        {
          "output_type": "stream",
          "text": [
            "['Argentina', 'Colômbia', 'Canadá', 'China', 'Brasil']\n"
          ],
          "name": "stdout"
        }
      ]
    },
    {
      "cell_type": "code",
      "metadata": {
        "colab": {
          "base_uri": "https://localhost:8080/"
        },
        "id": "qrsqR3OQhVQ9",
        "outputId": "14e57c29-4a2e-4b05-f7c3-93813f36477d"
      },
      "source": [
        "print(nome_paises[::2])"
      ],
      "execution_count": 21,
      "outputs": [
        {
          "output_type": "stream",
          "text": [
            "['Brasil', 'Canadá', 'Argentina']\n"
          ],
          "name": "stdout"
        }
      ]
    },
    {
      "cell_type": "code",
      "metadata": {
        "colab": {
          "base_uri": "https://localhost:8080/"
        },
        "id": "sW6AqVAuhqZy",
        "outputId": "31988457-23a8-4eee-8aef-133cb8722e7c"
      },
      "source": [
        "print(\"Brasil\" in nome_paises)"
      ],
      "execution_count": 22,
      "outputs": [
        {
          "output_type": "stream",
          "text": [
            "True\n"
          ],
          "name": "stdout"
        }
      ]
    },
    {
      "cell_type": "code",
      "metadata": {
        "colab": {
          "base_uri": "https://localhost:8080/"
        },
        "id": "dDOQaX0FhynQ",
        "outputId": "761d44f2-372f-43f8-8b5d-7e83272e0e84"
      },
      "source": [
        "print(\"Brasil\" not in nome_paises)"
      ],
      "execution_count": 23,
      "outputs": [
        {
          "output_type": "stream",
          "text": [
            "False\n"
          ],
          "name": "stdout"
        }
      ]
    },
    {
      "cell_type": "code",
      "metadata": {
        "id": "dnuMrPEwh1W-"
      },
      "source": [
        "lista_capitais = []"
      ],
      "execution_count": 37,
      "outputs": []
    },
    {
      "cell_type": "code",
      "metadata": {
        "id": "UAWP_PZZg0GE"
      },
      "source": [
        "lista_capitais.append('Brasília')\n",
        "lista_capitais.append('Buenos Aires')\n",
        "lista_capitais.append('Pequim')"
      ],
      "execution_count": 38,
      "outputs": []
    },
    {
      "cell_type": "code",
      "metadata": {
        "colab": {
          "base_uri": "https://localhost:8080/"
        },
        "id": "t5lHCLIsiMkK",
        "outputId": "13556af4-38c1-44f5-ab8d-3ef7ef91c5ea"
      },
      "source": [
        "print(lista_capitais)"
      ],
      "execution_count": 39,
      "outputs": [
        {
          "output_type": "stream",
          "text": [
            "['Brasília', 'Buenos Aires', 'Pequim']\n"
          ],
          "name": "stdout"
        }
      ]
    },
    {
      "cell_type": "code",
      "metadata": {
        "colab": {
          "base_uri": "https://localhost:8080/"
        },
        "id": "Ht09ROEhih4k",
        "outputId": "cca456cc-8e3d-4516-dd07-4bdb72c5595b"
      },
      "source": [
        "lista_capitais.insert(2, 'Paris')\n",
        "print(lista_capitais)"
      ],
      "execution_count": 40,
      "outputs": [
        {
          "output_type": "stream",
          "text": [
            "['Brasília', 'Buenos Aires', 'Paris', 'Pequim']\n"
          ],
          "name": "stdout"
        }
      ]
    },
    {
      "cell_type": "code",
      "metadata": {
        "colab": {
          "base_uri": "https://localhost:8080/"
        },
        "id": "NmFMQ7VsiqET",
        "outputId": "fc2cba92-7e17-4e85-9572-e5dff41a4328"
      },
      "source": [
        "lista_capitais.remove('Buenos Aires')\n",
        "print(lista_capitais)"
      ],
      "execution_count": 41,
      "outputs": [
        {
          "output_type": "stream",
          "text": [
            "['Brasília', 'Paris', 'Pequim']\n"
          ],
          "name": "stdout"
        }
      ]
    },
    {
      "cell_type": "code",
      "metadata": {
        "colab": {
          "base_uri": "https://localhost:8080/",
          "height": 35
        },
        "id": "Bw5lYFxei8tR",
        "outputId": "c69a00ee-ad8e-4dc7-ba43-b27dc9c2ad57"
      },
      "source": [
        "lista_capitais.pop(2)"
      ],
      "execution_count": 42,
      "outputs": [
        {
          "output_type": "execute_result",
          "data": {
            "application/vnd.google.colaboratory.intrinsic+json": {
              "type": "string"
            },
            "text/plain": [
              "'Pequim'"
            ]
          },
          "metadata": {
            "tags": []
          },
          "execution_count": 42
        }
      ]
    },
    {
      "cell_type": "markdown",
      "metadata": {
        "id": "JYKOrP8o1Ekw"
      },
      "source": [
        "Funções de listas"
      ]
    },
    {
      "cell_type": "code",
      "metadata": {
        "colab": {
          "base_uri": "https://localhost:8080/"
        },
        "id": "NKO6MjY-1GVI",
        "outputId": "704194c0-dad3-46e0-d19c-cb9127a77ef6"
      },
      "source": [
        "indice = 0\n",
        "while indice < len(numeros):\n",
        "    print(numeros[indice])\n",
        "    indice = indice + 1"
      ],
      "execution_count": null,
      "outputs": [
        {
          "output_type": "stream",
          "text": [
            "1\n",
            "3\n",
            "5\n",
            "8\n",
            "9\n"
          ],
          "name": "stdout"
        }
      ]
    },
    {
      "cell_type": "code",
      "metadata": {
        "colab": {
          "base_uri": "https://localhost:8080/"
        },
        "id": "62k9RIJw1JYr",
        "outputId": "11cca13c-ae44-4b73-a5b3-c0c6eeb5b79a"
      },
      "source": [
        "animais = []\n",
        "resposta = 's'\n",
        "while resposta == 's' or resposta == 'S':\n",
        "    resposta = input('Deseja adicionar um animal à lista (s/n)? ')\n",
        "    if (resposta == 's' or resposta == 'S'):\n",
        "        animal = input('Digite o nome do animal: ')\n",
        "        animais.append(animal) # adiciona o novo animal à lista\n",
        "print(animais)"
      ],
      "execution_count": null,
      "outputs": [
        {
          "output_type": "stream",
          "text": [
            "Deseja adicionar um animal à lista (s/n)? s\n",
            "Digite o nome do animal: cachorro\n",
            "Deseja adicionar um animal à lista (s/n)? s\n",
            "Digite o nome do animal: gato\n",
            "Deseja adicionar um animal à lista (s/n)? n\n",
            "['cachorro', 'gato']\n"
          ],
          "name": "stdout"
        }
      ]
    },
    {
      "cell_type": "code",
      "metadata": {
        "colab": {
          "base_uri": "https://localhost:8080/"
        },
        "id": "npQCB4_M1Uq6",
        "outputId": "a708e6bb-b632-42cf-8d54-b9c8bd730f16"
      },
      "source": [
        "animal = input('Digite o animal a ser deletado da lista: ')\n",
        "animais.remove(animal)\n",
        "print(animais)"
      ],
      "execution_count": null,
      "outputs": [
        {
          "output_type": "stream",
          "text": [
            "Digite o animal a ser deletado da lista: gato\n",
            "['cachorro']\n"
          ],
          "name": "stdout"
        }
      ]
    },
    {
      "cell_type": "markdown",
      "metadata": {
        "id": "MKISURGA1jpY"
      },
      "source": [
        "list.count()"
      ]
    },
    {
      "cell_type": "code",
      "metadata": {
        "colab": {
          "base_uri": "https://localhost:8080/"
        },
        "id": "rYnHInr41lnx",
        "outputId": "014ca796-38c9-4ddc-9791-914a5a7e340f"
      },
      "source": [
        "jogadores = ['Ronaldo', 'Rivaldo', 'Ronaldo', 'Adriano']\n",
        "ronaldos = jogadores.count('Ronaldo')\n",
        "print(jogadores)\n",
        "print('Quantidade de Ronaldos: ', ronaldos)"
      ],
      "execution_count": null,
      "outputs": [
        {
          "output_type": "stream",
          "text": [
            "['Ronaldo', 'Rivaldo', 'Ronaldo', 'Adriano']\n",
            "Quantidade de Ronaldos:  2\n"
          ],
          "name": "stdout"
        }
      ]
    },
    {
      "cell_type": "markdown",
      "metadata": {
        "id": "CoZVFssv1nxt"
      },
      "source": [
        "list.index()"
      ]
    },
    {
      "cell_type": "code",
      "metadata": {
        "colab": {
          "base_uri": "https://localhost:8080/"
        },
        "id": "9QjwRco11nc5",
        "outputId": "8299ced2-4a8b-4afb-ea55-3e9f96e70c52"
      },
      "source": [
        "rivaldo = jogadores.index('Rivaldo')\n",
        "print(\"Rivaldo está na posição \", rivaldo)"
      ],
      "execution_count": null,
      "outputs": [
        {
          "output_type": "stream",
          "text": [
            "Rivaldo está na posição  1\n"
          ],
          "name": "stdout"
        }
      ]
    },
    {
      "cell_type": "markdown",
      "metadata": {
        "id": "3FXDowTI1ufi"
      },
      "source": [
        "list.sort()"
      ]
    },
    {
      "cell_type": "code",
      "metadata": {
        "colab": {
          "base_uri": "https://localhost:8080/"
        },
        "id": "b0ULlQ8J1uHs",
        "outputId": "0c6e2772-a395-482e-bd2a-f3954e4ae759"
      },
      "source": [
        "jogadores.sort()\n",
        "print(\"jogadores em ordem alfabética: \", jogadores)"
      ],
      "execution_count": null,
      "outputs": [
        {
          "output_type": "stream",
          "text": [
            "jogadores em ordem alfabética:  ['Adriano', 'Rivaldo', 'Ronaldo', 'Ronaldo']\n"
          ],
          "name": "stdout"
        }
      ]
    },
    {
      "cell_type": "markdown",
      "metadata": {
        "id": "lANlKYDw1yHp"
      },
      "source": [
        "max(list) e min(list)"
      ]
    },
    {
      "cell_type": "code",
      "metadata": {
        "colab": {
          "base_uri": "https://localhost:8080/"
        },
        "id": "7Ol_EBBi11dY",
        "outputId": "0b95c668-b5bb-41a6-9db8-0a8798910150"
      },
      "source": [
        "digitos = [3, 1, 4, 1, 5, 9, 2, 6, 5]\n",
        "maior = max(digitos)\n",
        "menor = min(digitos)\n",
        "print(digitos)\n",
        "print(\"Maior = \", maior, \"e menor = \", menor)"
      ],
      "execution_count": null,
      "outputs": [
        {
          "output_type": "stream",
          "text": [
            "[3, 1, 4, 1, 5, 9, 2, 6, 5]\n",
            "Maior =  9 e menor =  1\n"
          ],
          "name": "stdout"
        }
      ]
    },
    {
      "cell_type": "markdown",
      "metadata": {
        "id": "iqI0Ieiu13P0"
      },
      "source": [
        "#Tuplas"
      ]
    },
    {
      "cell_type": "code",
      "metadata": {
        "id": "UeBBT7xy14Z0"
      },
      "source": [
        "# Uma tupla é uma coleção de objetos que lembra muito as listas.\n",
        "\n",
        "# Ao invés de colchetes, usamos parênteses para declarar as tuplas:\n",
        "numeros = (1,2,3,5,7,11)\n",
        "\n",
        "# Podemos declarar sem parênteses também:\n",
        "numeros = 1,2,3,5,7,11"
      ],
      "execution_count": null,
      "outputs": []
    },
    {
      "cell_type": "code",
      "metadata": {
        "colab": {
          "base_uri": "https://localhost:8080/"
        },
        "id": "qMcBURl019bT",
        "outputId": "1ef34c2e-2ee7-449f-90a8-d7a63702aa3b"
      },
      "source": [
        "# Para acessar um valor, utilizamos a mesma sintaxe das listas:\n",
        "print(numeros[4])\n",
        "print(type(numeros))"
      ],
      "execution_count": null,
      "outputs": [
        {
          "output_type": "stream",
          "text": [
            "7\n",
            "<class 'tuple'>\n"
          ],
          "name": "stdout"
        }
      ]
    },
    {
      "cell_type": "code",
      "metadata": {
        "colab": {
          "base_uri": "https://localhost:8080/"
        },
        "id": "JptSZrEQ2Bhy",
        "outputId": "d8a651f8-613e-4589-b653-b9fb558f32ec"
      },
      "source": [
        "# Podemos gerar uma tupla a partir de uma lista...\n",
        "lista1 = [3, 1, 4, 1, 5, 9, 2, 6, 5]\n",
        "tupla1 = tuple(lista1)\n",
        "print(tupla1)"
      ],
      "execution_count": null,
      "outputs": [
        {
          "output_type": "stream",
          "text": [
            "(3, 1, 4, 1, 5, 9, 2, 6, 5)\n"
          ],
          "name": "stdout"
        }
      ]
    },
    {
      "cell_type": "code",
      "metadata": {
        "id": "KpS6c8VR2Er6",
        "colab": {
          "base_uri": "https://localhost:8080/"
        },
        "outputId": "f642d9a8-eee8-4683-d703-635a5743f6c3"
      },
      "source": [
        "# ...ou uma lista a partir de uma tupla:\n",
        "tupla2 = [1, 6, 1, 8]\n",
        "lista2 = list(tupla2)\n",
        "print(lista2)"
      ],
      "execution_count": null,
      "outputs": [
        {
          "output_type": "stream",
          "text": [
            "[1, 6, 1, 8]\n"
          ],
          "name": "stdout"
        }
      ]
    },
    {
      "cell_type": "code",
      "metadata": {
        "id": "CSfF6aEU2HVD",
        "colab": {
          "base_uri": "https://localhost:8080/"
        },
        "outputId": "c473cf35-782f-4253-ce74-90162f507bde"
      },
      "source": [
        "# Também pode-se usar o unpacking com uma tupla:\n",
        "a, b, c, d, e, f = numeros # \"desempacota\" a tupla numeros\n",
        "print(\"O primeiro vale:\", a, \"e o ultimo vale:\", f)"
      ],
      "execution_count": null,
      "outputs": [
        {
          "output_type": "stream",
          "text": [
            "O primeiro vale: 1 e o ultimo vale: 11\n"
          ],
          "name": "stdout"
        }
      ]
    },
    {
      "cell_type": "code",
      "metadata": {
        "colab": {
          "base_uri": "https://localhost:8080/"
        },
        "id": "sh4gr1o6mic8",
        "outputId": "f5c22c61-c80c-41b8-ec3d-d92348cd6b45"
      },
      "source": [
        "nome_estado = 'PR', 'SP', 'RS','SC',\n",
        "print(nome_estado, type(nome_estado))"
      ],
      "execution_count": 43,
      "outputs": [
        {
          "output_type": "stream",
          "text": [
            "('PR', 'SP', 'RS', 'SC') <class 'tuple'>\n"
          ],
          "name": "stdout"
        }
      ]
    },
    {
      "cell_type": "code",
      "metadata": {
        "id": "OMEDc8dHm1x6"
      },
      "source": [
        "p, s, r, s, = nome_estado"
      ],
      "execution_count": 44,
      "outputs": []
    },
    {
      "cell_type": "code",
      "metadata": {
        "colab": {
          "base_uri": "https://localhost:8080/"
        },
        "id": "v841lwhPm_pT",
        "outputId": "37b4f1fd-9ae8-492d-899f-b8a1f8e3affc"
      },
      "source": [
        "print(p,s,r,s)"
      ],
      "execution_count": 46,
      "outputs": [
        {
          "output_type": "stream",
          "text": [
            "PR SC RS SC\n"
          ],
          "name": "stdout"
        }
      ]
    },
    {
      "cell_type": "markdown",
      "metadata": {
        "id": "cRuz7jVjnJCW"
      },
      "source": [
        "#Strings"
      ]
    },
    {
      "cell_type": "code",
      "metadata": {
        "id": "e9u7YqmQnMZZ"
      },
      "source": [
        "# Suponhamos que temos a seguinte string:\n",
        "\n",
        "frase = 'uma FRASE'"
      ],
      "execution_count": 47,
      "outputs": []
    },
    {
      "cell_type": "code",
      "metadata": {
        "colab": {
          "base_uri": "https://localhost:8080/"
        },
        "id": "TpjtfO3tnW3q",
        "outputId": "36eafc47-cf2f-443b-d320-5a855e29ec80"
      },
      "source": [
        "# Podemos acessar individualmente cada caractere em uma frase.\n",
        "# A ideia é a mesma de acessar uma lista:\n",
        "print(frase[0])\n",
        "print(frase[1])\n",
        "print(frase[2])\n"
      ],
      "execution_count": 49,
      "outputs": [
        {
          "output_type": "stream",
          "text": [
            "u\n",
            "m\n",
            "a\n"
          ],
          "name": "stdout"
        }
      ]
    },
    {
      "cell_type": "code",
      "metadata": {
        "colab": {
          "base_uri": "https://localhost:8080/"
        },
        "id": "QdsjQVwfnX2N",
        "outputId": "b78600a6-5e18-43db-8cdb-df31ba9118ef"
      },
      "source": [
        "tamanho = len(frase)\n",
        "print(\"A frase possui\", tamanho, \"caracteres\")"
      ],
      "execution_count": 51,
      "outputs": [
        {
          "output_type": "stream",
          "text": [
            "A frase possui 9 caracteres\n"
          ],
          "name": "stdout"
        }
      ]
    },
    {
      "cell_type": "code",
      "metadata": {
        "colab": {
          "base_uri": "https://localhost:8080/"
        },
        "id": "AWWpVdFInazI",
        "outputId": "7fc26e2d-1c46-4147-d6d5-4b150eb513c4"
      },
      "source": [
        "# Porém, strings são imutáveis: não podemos alterar caracteres individuais\n",
        "# A linha abaixo, se for descomentada, dará erro no programa:\n",
        "# frase[4] = 'C'\n",
        "\n",
        "# Podemos converter strings para listas:\n",
        "listafrase = list(frase)\n",
        "print(listafrase)"
      ],
      "execution_count": 52,
      "outputs": [
        {
          "output_type": "stream",
          "text": [
            "['u', 'm', 'a', ' ', 'F', 'R', 'A', 'S', 'E']\n"
          ],
          "name": "stdout"
        }
      ]
    },
    {
      "cell_type": "code",
      "metadata": {
        "colab": {
          "base_uri": "https://localhost:8080/"
        },
        "id": "VBzRlSKKnhDS",
        "outputId": "bc5aac5c-9ba0-4724-f060-f7326a4ced37"
      },
      "source": [
        "# A função join() intercala cada elemento de uma lista com uma string.\n",
        "stringfinal = '-py'.join(listafrase)\n",
        "print(stringfinal)"
      ],
      "execution_count": 53,
      "outputs": [
        {
          "output_type": "stream",
          "text": [
            "u-pym-pya-py -pyF-pyR-pyA-pyS-pyE\n"
          ],
          "name": "stdout"
        }
      ]
    },
    {
      "cell_type": "code",
      "metadata": {
        "colab": {
          "base_uri": "https://localhost:8080/"
        },
        "id": "zDJzmLP1nlYi",
        "outputId": "7954f6a7-b126-4743-8489-f23ee247057f"
      },
      "source": [
        "# Usar um join() com uma string vazia é útil para transformar a lista de volta\n",
        "# em string:\n",
        "stringfinal = ''.join(listafrase)\n",
        "print(stringfinal)"
      ],
      "execution_count": 54,
      "outputs": [
        {
          "output_type": "stream",
          "text": [
            "uma FRASE\n"
          ],
          "name": "stdout"
        }
      ]
    },
    {
      "cell_type": "code",
      "metadata": {
        "id": "K9Mf95u-nqkC"
      },
      "source": [
        "# Existem algumas funções interessantes que retornam a string \"tratada\":\n",
        "s1 = frase.capitalize() # 1a letra maiúscula, restante minúscula\n",
        "s2 = frase.title() # todo início de palavra em maiúscula, resto minúscula\n",
        "s3 = frase.upper() # string inteira em maiúscula\n",
        "s4 = frase.lower() # string inteira em minúscula\n",
        "s5 = frase.replace('F', 'C') # substitui a primeira substring pela segunda"
      ],
      "execution_count": 55,
      "outputs": []
    },
    {
      "cell_type": "code",
      "metadata": {
        "colab": {
          "base_uri": "https://localhost:8080/"
        },
        "id": "laiMARRunsjp",
        "outputId": "dba81898-1a8d-4b50-a5a0-69f9707b1e0c"
      },
      "source": [
        "print(s1)\n",
        "print(s2)\n",
        "print(s3)\n",
        "print(s4)\n",
        "print(s5)\n",
        "# Note que NENHUMA delas ALTERA a string original, elas sempre retornam\n",
        "# a string nova.\n",
        "print('String original:', frase)"
      ],
      "execution_count": 57,
      "outputs": [
        {
          "output_type": "stream",
          "text": [
            "Uma frase\n",
            "Uma Frase\n",
            "UMA FRASE\n",
            "uma frase\n",
            "uma CRASE\n",
            "String original: uma FRASE\n"
          ],
          "name": "stdout"
        }
      ]
    },
    {
      "cell_type": "code",
      "metadata": {
        "id": "LIAJKNq-nthY"
      },
      "source": [
        "# Outra possibilidade com strings é quebrar a string em uma lista de substrings\n",
        "# Sempre que o caractere especificado é encontrado, a string é quebrada\n",
        "quebra1 = frase.split(' ') # quebra a frase no caractere espaço em branco\n",
        "quebra2 = s3.split('A') # quebra a frase em maiúsculas no caractere 'A'\n"
      ],
      "execution_count": 58,
      "outputs": []
    },
    {
      "cell_type": "code",
      "metadata": {
        "colab": {
          "base_uri": "https://localhost:8080/"
        },
        "id": "WOXaQNGVnzbd",
        "outputId": "ab3102d4-eda2-4437-97d7-982d117bab92"
      },
      "source": [
        "print(quebra1)\n",
        "print(quebra2)"
      ],
      "execution_count": 59,
      "outputs": [
        {
          "output_type": "stream",
          "text": [
            "['uma', 'FRASE']\n",
            "['UM', ' FR', 'SE']\n"
          ],
          "name": "stdout"
        }
      ]
    },
    {
      "cell_type": "code",
      "metadata": {
        "colab": {
          "base_uri": "https://localhost:8080/"
        },
        "id": "zwXJx8BDn20_",
        "outputId": "7e720d31-c7a5-4e82-aaa3-8d554b94b24e"
      },
      "source": [
        "# Podemos inserir quebras de linha com '\\n'\n",
        "frase = 'uma\\nFRASE'\n",
        "print(frase)"
      ],
      "execution_count": 60,
      "outputs": [
        {
          "output_type": "stream",
          "text": [
            "uma\n",
            "FRASE\n"
          ],
          "name": "stdout"
        }
      ]
    },
    {
      "cell_type": "code",
      "metadata": {
        "colab": {
          "base_uri": "https://localhost:8080/"
        },
        "id": "Q8_Ls7G5n5lT",
        "outputId": "4b01ee3f-f7af-4adb-cafd-5bba4b0e0a13"
      },
      "source": [
        "# Podemos inserir tabulação com '\\t'\n",
        "frase = 'uma\\n\\tFRASE'\n",
        "print(frase)\n",
        "# Para conseguir representar a barra '\\', precisamos de 2 barras:\n",
        "frase = 'uma\\\\FRASE'"
      ],
      "execution_count": 61,
      "outputs": [
        {
          "output_type": "stream",
          "text": [
            "uma\n",
            "\tFRASE\n"
          ],
          "name": "stdout"
        }
      ]
    },
    {
      "cell_type": "code",
      "metadata": {
        "id": "WNv2d_7qy5Rd"
      },
      "source": [
        "empresa = 'Google'\n",
        "empres2 = \"Let's Code\""
      ],
      "execution_count": 62,
      "outputs": []
    },
    {
      "cell_type": "code",
      "metadata": {
        "colab": {
          "base_uri": "https://localhost:8080/"
        },
        "id": "lNcPiLTpzE3g",
        "outputId": "914b7d86-02f3-496b-8c29-bac6c767ec28"
      },
      "source": [
        "frase = \"a pizzaria disse: \\\"hoje a pizza ta boa\\\"\"\n",
        "print(frase)"
      ],
      "execution_count": 64,
      "outputs": [
        {
          "output_type": "stream",
          "text": [
            "a pizzaria disse: \"hoje a pizza ta boa\"\n"
          ],
          "name": "stdout"
        }
      ]
    },
    {
      "cell_type": "code",
      "metadata": {
        "colab": {
          "base_uri": "https://localhost:8080/",
          "height": 35
        },
        "id": "JcdkZ5vtz3pj",
        "outputId": "efdf411f-fbba-4129-cc36-cf492e583d4a"
      },
      "source": [
        "empresa[0]"
      ],
      "execution_count": 65,
      "outputs": [
        {
          "output_type": "execute_result",
          "data": {
            "application/vnd.google.colaboratory.intrinsic+json": {
              "type": "string"
            },
            "text/plain": [
              "'G'"
            ]
          },
          "metadata": {
            "tags": []
          },
          "execution_count": 65
        }
      ]
    },
    {
      "cell_type": "code",
      "metadata": {
        "colab": {
          "base_uri": "https://localhost:8080/",
          "height": 35
        },
        "id": "FXaEs3HNzZAg",
        "outputId": "c23ebfc7-73ad-4013-a930-05443bc7c146"
      },
      "source": [
        "empresa[:3]"
      ],
      "execution_count": 66,
      "outputs": [
        {
          "output_type": "execute_result",
          "data": {
            "application/vnd.google.colaboratory.intrinsic+json": {
              "type": "string"
            },
            "text/plain": [
              "'Goo'"
            ]
          },
          "metadata": {
            "tags": []
          },
          "execution_count": 66
        }
      ]
    },
    {
      "cell_type": "code",
      "metadata": {
        "colab": {
          "base_uri": "https://localhost:8080/"
        },
        "id": "qSb_WgHmz-bg",
        "outputId": "26e38259-b4bb-4e9c-c21d-e7b946890a08"
      },
      "source": [
        "nome_cidades = \"São paulo, Brasiliea, Fco. Beltrao, Pato branco\"\n",
        "nome_cidades = nome_cidades.split(',')\n",
        "nome_cidades"
      ],
      "execution_count": 67,
      "outputs": [
        {
          "output_type": "execute_result",
          "data": {
            "text/plain": [
              "['São paulo', ' Brasiliea', ' Fco. Beltrao', ' Pato branco']"
            ]
          },
          "metadata": {
            "tags": []
          },
          "execution_count": 67
        }
      ]
    },
    {
      "cell_type": "code",
      "metadata": {
        "colab": {
          "base_uri": "https://localhost:8080/"
        },
        "id": "uDNCMAXd1IT5",
        "outputId": "104f33ec-0602-4c65-f6ab-ced6380518dd"
      },
      "source": [
        "cabecalho = \"                 MENU\"\n",
        "print(cabecalho.strip())"
      ],
      "execution_count": 68,
      "outputs": [
        {
          "output_type": "stream",
          "text": [
            "MENU\n"
          ],
          "name": "stdout"
        }
      ]
    },
    {
      "cell_type": "code",
      "metadata": {
        "colab": {
          "base_uri": "https://localhost:8080/"
        },
        "id": "4VozgRrc1POa",
        "outputId": "ffbf48ca-da8e-4b34-edfa-a0fac7f69f6b"
      },
      "source": [
        "maravilhosa = input(\"Que cidade é a maravilhosa\")\n",
        "maravilhosa = maravilhosa.strip()\n",
        "while maravilhosa.lower() != 'rio de janeiro':\n",
        "  print(\"tenta dnv\")\n",
        "  maravilhosa = input('que cidade é maravilhosa?')\n",
        "\n",
        "print(\"boa\")"
      ],
      "execution_count": 73,
      "outputs": [
        {
          "output_type": "stream",
          "text": [
            "Que cidade é a maravilhosario de janeiro\n",
            "boa\n"
          ],
          "name": "stdout"
        }
      ]
    },
    {
      "cell_type": "code",
      "metadata": {
        "colab": {
          "base_uri": "https://localhost:8080/"
        },
        "id": "ly-CMljM44gw",
        "outputId": "c3fa8305-ecc1-46bb-ebb8-13b230d581fd"
      },
      "source": [
        "mensagem = 'vc viu o pietro'\n",
        "fui_citado = \"pietro\" in mensagem\n",
        "print(fui_citado)"
      ],
      "execution_count": 74,
      "outputs": [
        {
          "output_type": "stream",
          "text": [
            "True\n"
          ],
          "name": "stdout"
        }
      ]
    },
    {
      "cell_type": "code",
      "metadata": {
        "colab": {
          "base_uri": "https://localhost:8080/"
        },
        "id": "w-gUpVfq5B81",
        "outputId": "338b19dc-8fd4-464b-c5e8-6ae08d104bd0"
      },
      "source": [
        "# Dois operadores aritméticos possuem um comportamento especial em strings:\n",
        "# Operador de soma (+): concatena (une) 2 strings.\n",
        "palavra1 = \"Let's\"\n",
        "palavra2 = \"Code\"\n",
        "palavra3 = palavra1 + palavra2\n",
        "print(palavra3)"
      ],
      "execution_count": 75,
      "outputs": [
        {
          "output_type": "stream",
          "text": [
            "Let'sCode\n"
          ],
          "name": "stdout"
        }
      ]
    },
    {
      "cell_type": "code",
      "metadata": {
        "colab": {
          "base_uri": "https://localhost:8080/"
        },
        "id": "HfAC4cko5Y2Q",
        "outputId": "7c3f386d-331c-41cb-b745-9c722f68fc2a"
      },
      "source": [
        "# Operador de multiplicação (*): copia uma string 'n' vezes:\n",
        "palavra = 'uma'\n",
        "trespalavras = 3*palavra\n",
        "print(trespalavras)"
      ],
      "execution_count": 76,
      "outputs": [
        {
          "output_type": "stream",
          "text": [
            "umaumauma\n"
          ],
          "name": "stdout"
        }
      ]
    },
    {
      "cell_type": "code",
      "metadata": {
        "colab": {
          "base_uri": "https://localhost:8080/"
        },
        "id": "vX3xzsFc5lO-",
        "outputId": "e7eb0936-11f3-4e29-defb-a6680773aea5"
      },
      "source": [
        "prod = 'chocolate'\n",
        "preco = 3.14\n",
        "print('O produto {} custa {}.'.format(prod, preco))\n",
        "\n",
        "# Na linha acima, prod substituirá o primeiro {}, e preco o segundo {}.\n",
        "# Saída: O produto chocolate custa 3.14.\n"
      ],
      "execution_count": 77,
      "outputs": [
        {
          "output_type": "stream",
          "text": [
            "O produto chocolate custa 3.14.\n"
          ],
          "name": "stdout"
        }
      ]
    },
    {
      "cell_type": "code",
      "metadata": {
        "colab": {
          "base_uri": "https://localhost:8080/"
        },
        "id": "MVYNplOy5nUG",
        "outputId": "6c7c42c7-1fe3-4db8-9212-d516aba478ef"
      },
      "source": [
        "# É possível colocar algumas opções especiais de formatação. Por exemplo:\n",
        "\n",
        "stringoriginal = 'O litro da gasolina custa {:.2f}'\n",
        "preco = 3.14159265\n",
        "stringcompleta = stringoriginal.format(preco)\n",
        "print(stringcompleta)"
      ],
      "execution_count": 79,
      "outputs": [
        {
          "output_type": "stream",
          "text": [
            "O litro da gasolina custa 3.14\n"
          ],
          "name": "stdout"
        }
      ]
    },
    {
      "cell_type": "code",
      "metadata": {
        "colab": {
          "base_uri": "https://localhost:8080/"
        },
        "id": "f7vSrsEi5uM6",
        "outputId": "1249af0c-2e06-4292-89a5-2be8718590cf"
      },
      "source": [
        "# Pode-se chamar as variávies em diferentes ordens:\n",
        "\n",
        "print('{2}, {1} and {0}'.format('a', 'b', 'c'))"
      ],
      "execution_count": 80,
      "outputs": [
        {
          "output_type": "stream",
          "text": [
            "c, b and a\n"
          ],
          "name": "stdout"
        }
      ]
    },
    {
      "cell_type": "code",
      "metadata": {
        "colab": {
          "base_uri": "https://localhost:8080/"
        },
        "id": "4CbLMOO05wBH",
        "outputId": "3f2b6f8a-8d9a-4daa-f047-006fa830c6b4"
      },
      "source": [
        "print('{0}{1}{0}'.format('abra', 'cad'))"
      ],
      "execution_count": 81,
      "outputs": [
        {
          "output_type": "stream",
          "text": [
            "abracadabra\n"
          ],
          "name": "stdout"
        }
      ]
    },
    {
      "cell_type": "code",
      "metadata": {
        "colab": {
          "base_uri": "https://localhost:8080/"
        },
        "id": "jDYmuRTl5yli",
        "outputId": "0f82ca9a-b96f-4c35-92d8-aca8d1eaefc6"
      },
      "source": [
        "# Podemos especificar um número de dígitos obrigatório por campo.\n",
        "# Vejamos o exemplo:\n",
        "\n",
        "dia = 1\n",
        "mes = 8\n",
        "ano = 2019\n",
        "data1 = '{}/{}/{}'.format(dia, mes, ano)\n",
        "print(data1)\n",
        "# Saída: 1/8/2019\n",
        "# O dia e o mês ocupam apenas 1 espaço"
      ],
      "execution_count": 82,
      "outputs": [
        {
          "output_type": "stream",
          "text": [
            "1/8/2019\n"
          ],
          "name": "stdout"
        }
      ]
    },
    {
      "cell_type": "code",
      "metadata": {
        "colab": {
          "base_uri": "https://localhost:8080/"
        },
        "id": "_dzKASze5044",
        "outputId": "eca674b1-b176-4259-b30b-3e414e536477"
      },
      "source": [
        "data2 = '{:2d}/{:2d}/{:4d}'.format(dia, mes, ano)\n",
        "# A opção 'd' significa que o parâmetro é um número inteiro.\n",
        "print(data2)\n",
        "# Saída:  1/ 8/2019\n",
        "# Agora, dia e mês ocupam obrigatoriamente 2 espaços:  1/ 8/2019"
      ],
      "execution_count": 83,
      "outputs": [
        {
          "output_type": "stream",
          "text": [
            " 1/ 8/2019\n"
          ],
          "name": "stdout"
        }
      ]
    },
    {
      "cell_type": "code",
      "metadata": {
        "colab": {
          "base_uri": "https://localhost:8080/"
        },
        "id": "V7M9jx6-52uM",
        "outputId": "32f67d9c-b71e-44e1-a364-cb2684fa86b8"
      },
      "source": [
        "# Podemos forçar que os espaços em branco sejam preenchidos com o número 0:\n",
        "data3 = '{:02d}/{:02d}/{:04d}'.format(dia, mes, ano)\n",
        "print(data3)\n",
        "# Saída: 01/08/2019\n",
        "# Agora sim a data está no formato usual, dd/mm/aaaa: 01/08/2019"
      ],
      "execution_count": 84,
      "outputs": [
        {
          "output_type": "stream",
          "text": [
            "01/08/2019\n"
          ],
          "name": "stdout"
        }
      ]
    },
    {
      "cell_type": "code",
      "metadata": {
        "colab": {
          "base_uri": "https://localhost:8080/"
        },
        "id": "IEVinmbI54ju",
        "outputId": "9bae4b3b-6708-4e5e-c9e6-d61d1973d567"
      },
      "source": [
        "# Um modo mais simples de utilizar o format\n",
        "nome = \"Pietro\"\n",
        "profissao = \"professor\"\n",
        "escola = \"Let's Code\"\n",
        "\n",
        "print(f\"{nome} é {profissao} da {escola}.\")\n",
        "# Saída: Pietro é professor da Let's Code."
      ],
      "execution_count": 85,
      "outputs": [
        {
          "output_type": "stream",
          "text": [
            "Pietro é professor da Let's Code.\n"
          ],
          "name": "stdout"
        }
      ]
    },
    {
      "cell_type": "code",
      "metadata": {
        "colab": {
          "base_uri": "https://localhost:8080/"
        },
        "id": "EYU-Fq6W6FC-",
        "outputId": "8334cfb9-64d2-4db1-be5b-247c07ee5424"
      },
      "source": [
        "nome = \"welliton\"\n",
        "idade = 27\n",
        "\n",
        "print(nome + \" tem \" + str(idade) + \" anos\")"
      ],
      "execution_count": 88,
      "outputs": [
        {
          "output_type": "stream",
          "text": [
            "welliton tem 27 anos\n"
          ],
          "name": "stdout"
        }
      ]
    },
    {
      "cell_type": "code",
      "metadata": {
        "colab": {
          "base_uri": "https://localhost:8080/"
        },
        "id": "zWW874Zh9Fwd",
        "outputId": "ecbd2461-7b50-4a38-df62-d6f7df1330da"
      },
      "source": [
        "print('{} tem {} anos'.format(nome,idade))"
      ],
      "execution_count": 89,
      "outputs": [
        {
          "output_type": "stream",
          "text": [
            "welliton tem 27 anos\n"
          ],
          "name": "stdout"
        }
      ]
    },
    {
      "cell_type": "code",
      "metadata": {
        "colab": {
          "base_uri": "https://localhost:8080/",
          "height": 35
        },
        "id": "XHfiGVjD9qkl",
        "outputId": "0dbd945f-0be2-455c-8179-55e9f3b35c80"
      },
      "source": [
        "f'{nome} tem {idade} anos'"
      ],
      "execution_count": 90,
      "outputs": [
        {
          "output_type": "execute_result",
          "data": {
            "application/vnd.google.colaboratory.intrinsic+json": {
              "type": "string"
            },
            "text/plain": [
              "'welliton tem 27 anos'"
            ]
          },
          "metadata": {
            "tags": []
          },
          "execution_count": 90
        }
      ]
    },
    {
      "cell_type": "markdown",
      "metadata": {
        "id": "iftbgBqJ98Je"
      },
      "source": [
        "#Dicionários"
      ]
    },
    {
      "cell_type": "code",
      "metadata": {
        "colab": {
          "base_uri": "https://localhost:8080/"
        },
        "id": "ms2RuFYB-BA_",
        "outputId": "6c88a809-2244-45e0-d508-9b3d8c925625"
      },
      "source": [
        "# O dicionário é definido pelos símbolos { e }\n",
        "\n",
        "dicionario = {}\n",
        "\n",
        "# O dicionário não possui um \"append\".\n",
        "# Adicionamos valores diretamente:\n",
        "\n",
        "dicionario['cat'] = 'gato'\n",
        "dicionario['dog'] = 'cachorro'\n",
        "dicionario['mouse'] = 'rato'\n",
        "\n",
        "print(dicionario)\n",
        "print(type(dicionario))"
      ],
      "execution_count": 92,
      "outputs": [
        {
          "output_type": "stream",
          "text": [
            "{'cat': 'gato', 'dog': 'cachorro', 'mouse': 'rato'}\n",
            "<class 'dict'>\n"
          ],
          "name": "stdout"
        }
      ]
    },
    {
      "cell_type": "code",
      "metadata": {
        "colab": {
          "base_uri": "https://localhost:8080/"
        },
        "id": "R1E_QeHl-LkI",
        "outputId": "f9cc7004-25ee-482c-9ae1-ee044535eba9"
      },
      "source": [
        "# Dicionários, assim como as listas, são mutáveis:\n",
        "dicionario['dog'] = 'cão'\n",
        "print(dicionario)"
      ],
      "execution_count": 93,
      "outputs": [
        {
          "output_type": "stream",
          "text": [
            "{'cat': 'gato', 'dog': 'cão', 'mouse': 'rato'}\n"
          ],
          "name": "stdout"
        }
      ]
    },
    {
      "cell_type": "code",
      "metadata": {
        "colab": {
          "base_uri": "https://localhost:8080/"
        },
        "id": "9ll_T_V5-Oqs",
        "outputId": "64a6c791-4905-44aa-cdc0-dfebee1599d4"
      },
      "source": [
        "# Podemos criar o dicionário diretamente também:\n",
        "dicionario2 = {'Curso': 'Python Pro', 'Linguagem':'Python', 'Módulo':2}\n",
        "print(dicionario2)"
      ],
      "execution_count": 95,
      "outputs": [
        {
          "output_type": "stream",
          "text": [
            "{'Curso': 'Python Pro', 'Linguagem': 'Python', 'Módulo': 2}\n"
          ],
          "name": "stdout"
        }
      ]
    },
    {
      "cell_type": "code",
      "metadata": {
        "colab": {
          "base_uri": "https://localhost:8080/"
        },
        "id": "xzPMb1K--RZn",
        "outputId": "fbd9abc0-29d1-4caa-f77a-10e55aa710b1"
      },
      "source": [
        "# Podemos utilizar o operador \"in\" para verificar se uma chave existe:\n",
        "if 'cat' in dicionario:\n",
        "    print('cat existe!') # Sim\n",
        "if 'bird' in dicionario:\n",
        "    print('bird existe!') # Não\n",
        "if 'gato' in dicionario:\n",
        "    print('gato existe!') # Não"
      ],
      "execution_count": 96,
      "outputs": [
        {
          "output_type": "stream",
          "text": [
            "cat existe!\n"
          ],
          "name": "stdout"
        }
      ]
    },
    {
      "cell_type": "code",
      "metadata": {
        "colab": {
          "base_uri": "https://localhost:8080/"
        },
        "id": "BPMDrwe0-Wn7",
        "outputId": "a9912e9b-e82e-4a44-edfd-469706a54661"
      },
      "source": [
        "#Também podemos utilizar as funções .keys() e .values() para obter listas\n",
        "#com apenas as chaves ou apenas os valores do dicionário.\n",
        "\n",
        "chaves = dicionario.keys()\n",
        "print(chaves)"
      ],
      "execution_count": 98,
      "outputs": [
        {
          "output_type": "stream",
          "text": [
            "dict_keys(['cat', 'dog', 'mouse'])\n"
          ],
          "name": "stdout"
        }
      ]
    },
    {
      "cell_type": "code",
      "metadata": {
        "colab": {
          "base_uri": "https://localhost:8080/"
        },
        "id": "lM2SacT3-a8k",
        "outputId": "d98a32df-29b3-4222-8ee8-979a3ce7c98e"
      },
      "source": [
        "valores = dicionario.values()\n",
        "print(valores)"
      ],
      "execution_count": 99,
      "outputs": [
        {
          "output_type": "stream",
          "text": [
            "dict_values(['gato', 'cão', 'rato'])\n"
          ],
          "name": "stdout"
        }
      ]
    },
    {
      "cell_type": "code",
      "metadata": {
        "colab": {
          "base_uri": "https://localhost:8080/"
        },
        "id": "YFQV8Aa4-ckf",
        "outputId": "bc71f339-5809-47af-f251-dd867d12340a"
      },
      "source": [
        "# Já a função .items(), retorna uma lista de tuplas (chave, valor) de um dicionário\n",
        "\n",
        "itens = dicionario.items()\n",
        "print(itens)"
      ],
      "execution_count": 100,
      "outputs": [
        {
          "output_type": "stream",
          "text": [
            "dict_items([('cat', 'gato'), ('dog', 'cão'), ('mouse', 'rato')])\n"
          ],
          "name": "stdout"
        }
      ]
    },
    {
      "cell_type": "markdown",
      "metadata": {
        "id": "SmVlzATH-6ds"
      },
      "source": [
        "#Estrutura de Repetição FOR"
      ]
    },
    {
      "cell_type": "code",
      "metadata": {
        "colab": {
          "base_uri": "https://localhost:8080/"
        },
        "id": "S78SKLd3-_bI",
        "outputId": "2551f077-ecef-44c4-a5f6-6eddc166b642"
      },
      "source": [
        "fib = [1, 1, 2, 3, 5, 8, 13]\n",
        "for elemento in fib:\n",
        "    print(elemento)"
      ],
      "execution_count": 101,
      "outputs": [
        {
          "output_type": "stream",
          "text": [
            "1\n",
            "1\n",
            "2\n",
            "3\n",
            "5\n",
            "8\n",
            "13\n"
          ],
          "name": "stdout"
        }
      ]
    },
    {
      "cell_type": "code",
      "metadata": {
        "colab": {
          "base_uri": "https://localhost:8080/"
        },
        "id": "wGExtDwa_I8e",
        "outputId": "f6c28f18-309d-4077-a62b-175b630d1466"
      },
      "source": [
        "# Com 1 parâmetro, ele será interpretado como valor final (exclusivo).\n",
        "# O valor inicial será 0 e o incremento será 1.\n",
        "\n",
        "for numero in range(10):\n",
        "    print(numero)\n",
        "    # este exemplo imprime os números de 0 a 9, de um em um"
      ],
      "execution_count": 102,
      "outputs": [
        {
          "output_type": "stream",
          "text": [
            "0\n",
            "1\n",
            "2\n",
            "3\n",
            "4\n",
            "5\n",
            "6\n",
            "7\n",
            "8\n",
            "9\n"
          ],
          "name": "stdout"
        }
      ]
    },
    {
      "cell_type": "code",
      "metadata": {
        "colab": {
          "base_uri": "https://localhost:8080/"
        },
        "id": "oWUk0sBt_Lec",
        "outputId": "d38b46bc-2849-4465-f005-8baebd204a8a"
      },
      "source": [
        "# Com 2 parâmetros, o primeiro será o valor inicial (inclusivo) e o\n",
        "# segundo será o final (exclusivo).\n",
        "# O incremento continuará sendo 1.\n",
        "\n",
        "for numero in range(1,11):\n",
        "    print(numero)\n",
        "    # este exemplo imprime os números de 1 a 10, de um em um"
      ],
      "execution_count": 103,
      "outputs": [
        {
          "output_type": "stream",
          "text": [
            "1\n",
            "2\n",
            "3\n",
            "4\n",
            "5\n",
            "6\n",
            "7\n",
            "8\n",
            "9\n",
            "10\n"
          ],
          "name": "stdout"
        }
      ]
    },
    {
      "cell_type": "code",
      "metadata": {
        "colab": {
          "base_uri": "https://localhost:8080/"
        },
        "id": "RMCmUeR9_OIG",
        "outputId": "1a06077c-d462-414d-faf0-8f19c7ca922c"
      },
      "source": [
        "# Com 3 parâmetros, o terceiro será interpretado como incremento.\n",
        "for numero in range(1,20,2):\n",
        "    print(numero)\n",
        "    # este exemplo imprime os ímpares positivos menores do que 20\n",
        "    # ele começa valendo 1 e salta de 2 em 2 até atingir ou passar 20"
      ],
      "execution_count": 104,
      "outputs": [
        {
          "output_type": "stream",
          "text": [
            "1\n",
            "3\n",
            "5\n",
            "7\n",
            "9\n",
            "11\n",
            "13\n",
            "15\n",
            "17\n",
            "19\n"
          ],
          "name": "stdout"
        }
      ]
    },
    {
      "cell_type": "code",
      "metadata": {
        "colab": {
          "base_uri": "https://localhost:8080/"
        },
        "id": "zYy0zuTj_QDm",
        "outputId": "32f9d4c0-5222-4061-f261-19259e49f02e"
      },
      "source": [
        "# O incremento pode ser também um decremento (incremento negativo).\n",
        "for numero in range (10,0,-1):\n",
        "    print(numero)\n",
        "    #Imprimindo os números de 1 a 10 em ordem decrescente"
      ],
      "execution_count": 105,
      "outputs": [
        {
          "output_type": "stream",
          "text": [
            "10\n",
            "9\n",
            "8\n",
            "7\n",
            "6\n",
            "5\n",
            "4\n",
            "3\n",
            "2\n",
            "1\n"
          ],
          "name": "stdout"
        }
      ]
    },
    {
      "cell_type": "code",
      "metadata": {
        "colab": {
          "base_uri": "https://localhost:8080/"
        },
        "id": "YMToOu0Qp4Wa",
        "outputId": "fbed5f98-3939-48c3-ebb3-60e00b9bc01e"
      },
      "source": [
        "for nome in nome_cidades:\n",
        "    print(nome)"
      ],
      "execution_count": 107,
      "outputs": [
        {
          "output_type": "stream",
          "text": [
            "São paulo\n",
            " Brasiliea\n",
            " Fco. Beltrao\n",
            " Pato branco\n"
          ],
          "name": "stdout"
        }
      ]
    },
    {
      "cell_type": "code",
      "metadata": {
        "colab": {
          "base_uri": "https://localhost:8080/"
        },
        "id": "743rRVX7p-0F",
        "outputId": "6a8022f9-2933-45eb-d50f-08736e8f2111"
      },
      "source": [
        "cidade = {\n",
        "    'nome': 'SP',\n",
        "    'estado': 'SP',\n",
        "    'pop': 12.2\n",
        "}\n",
        "\n",
        "for chave in cidade:\n",
        "  print(f'{chave}: {cidade[chave]}')"
      ],
      "execution_count": 108,
      "outputs": [
        {
          "output_type": "stream",
          "text": [
            "nome: SP\n",
            "estado: SP\n",
            "pop: 12.2\n"
          ],
          "name": "stdout"
        }
      ]
    },
    {
      "cell_type": "code",
      "metadata": {
        "colab": {
          "base_uri": "https://localhost:8080/"
        },
        "id": "krSDVilYq0Qi",
        "outputId": "54fa6969-0b12-44b9-e0d7-7d47b4cb60a2"
      },
      "source": [
        "for pos in range(len(nome_cidades)):\n",
        "  nome_cidades[pos] = 'Rio'\n",
        "print(nome_cidades)"
      ],
      "execution_count": 110,
      "outputs": [
        {
          "output_type": "stream",
          "text": [
            "['Rio', 'Rio', 'Rio', 'Rio']\n"
          ],
          "name": "stdout"
        }
      ]
    },
    {
      "cell_type": "code",
      "metadata": {
        "colab": {
          "base_uri": "https://localhost:8080/"
        },
        "id": "zR_6z3QRsqcC",
        "outputId": "1b805b02-2108-4134-9a86-50a28402f2f7"
      },
      "source": [
        "list(range(10))"
      ],
      "execution_count": 111,
      "outputs": [
        {
          "output_type": "execute_result",
          "data": {
            "text/plain": [
              "[0, 1, 2, 3, 4, 5, 6, 7, 8, 9]"
            ]
          },
          "metadata": {
            "tags": []
          },
          "execution_count": 111
        }
      ]
    },
    {
      "cell_type": "code",
      "metadata": {
        "colab": {
          "base_uri": "https://localhost:8080/"
        },
        "id": "BW2yLv1Ksui9",
        "outputId": "073039dd-10f5-4345-9c30-5e9317a02713"
      },
      "source": [
        "list(range(2,10))"
      ],
      "execution_count": 112,
      "outputs": [
        {
          "output_type": "execute_result",
          "data": {
            "text/plain": [
              "[2, 3, 4, 5, 6, 7, 8, 9]"
            ]
          },
          "metadata": {
            "tags": []
          },
          "execution_count": 112
        }
      ]
    },
    {
      "cell_type": "code",
      "metadata": {
        "colab": {
          "base_uri": "https://localhost:8080/"
        },
        "id": "7B-uH7u1syqO",
        "outputId": "b4f3dab3-5fc8-41ab-909b-6fb2c24ddfd3"
      },
      "source": [
        "list(range(2,10,2))"
      ],
      "execution_count": 114,
      "outputs": [
        {
          "output_type": "execute_result",
          "data": {
            "text/plain": [
              "[2, 4, 6, 8]"
            ]
          },
          "metadata": {
            "tags": []
          },
          "execution_count": 114
        }
      ]
    },
    {
      "cell_type": "markdown",
      "metadata": {
        "id": "UeVluIWMs_5Z"
      },
      "source": [
        "#Funções"
      ]
    },
    {
      "cell_type": "markdown",
      "metadata": {
        "id": "slitnbRavUou"
      },
      "source": [
        "funções"
      ]
    },
    {
      "cell_type": "code",
      "metadata": {
        "id": "_MOOsOzlt2Hm"
      },
      "source": [
        "def hello():\n",
        "    print(\"Olá, mundo!\")"
      ],
      "execution_count": 115,
      "outputs": []
    },
    {
      "cell_type": "code",
      "metadata": {
        "colab": {
          "base_uri": "https://localhost:8080/"
        },
        "id": "l7IdN8agt7uA",
        "outputId": "a1620878-47d3-468d-a2d4-6cfa7e617ef1"
      },
      "source": [
        "hello()"
      ],
      "execution_count": 116,
      "outputs": [
        {
          "output_type": "stream",
          "text": [
            "Olá, mundo!\n"
          ],
          "name": "stdout"
        }
      ]
    },
    {
      "cell_type": "code",
      "metadata": {
        "id": "B58TaJ_It-EW"
      },
      "source": [
        "def ola(nome):\n",
        "    print(\"Olá\", nome)"
      ],
      "execution_count": 118,
      "outputs": []
    },
    {
      "cell_type": "code",
      "metadata": {
        "colab": {
          "base_uri": "https://localhost:8080/"
        },
        "id": "zUByDxEOuCiV",
        "outputId": "6dc7882f-213f-44b2-f930-f7de92e35881"
      },
      "source": [
        "ola(\"Welliton\")"
      ],
      "execution_count": 119,
      "outputs": [
        {
          "output_type": "stream",
          "text": [
            "Olá Welliton\n"
          ],
          "name": "stdout"
        }
      ]
    },
    {
      "cell_type": "code",
      "metadata": {
        "colab": {
          "base_uri": "https://localhost:8080/"
        },
        "id": "fXe8kdVfuIVM",
        "outputId": "0c8a4355-b4d3-47b6-ebee-3eab8d0dd8f0"
      },
      "source": [
        "aluno = \"João\"\n",
        "ola(aluno)"
      ],
      "execution_count": 120,
      "outputs": [
        {
          "output_type": "stream",
          "text": [
            "Olá João\n"
          ],
          "name": "stdout"
        }
      ]
    },
    {
      "cell_type": "code",
      "metadata": {
        "id": "qyFv_Va3uMys"
      },
      "source": [
        "def dadosPessoais(nome, idade, cidade):\n",
        "    print(\"Seu nome é {}, você tem {} anos e mora em {}.\".format(nome, idade, cidade))"
      ],
      "execution_count": 121,
      "outputs": []
    },
    {
      "cell_type": "code",
      "metadata": {
        "colab": {
          "base_uri": "https://localhost:8080/"
        },
        "id": "FyiHMeqBuO07",
        "outputId": "88af9464-9963-437f-a7d6-181b143e5dfe"
      },
      "source": [
        "dadosPessoais(\"José\", 30, \"Maceió\")"
      ],
      "execution_count": 122,
      "outputs": [
        {
          "output_type": "stream",
          "text": [
            "Seu nome é José, você tem 30 anos e mora em Maceió.\n"
          ],
          "name": "stdout"
        }
      ]
    },
    {
      "cell_type": "code",
      "metadata": {
        "colab": {
          "base_uri": "https://localhost:8080/"
        },
        "id": "0nIpk-CovOYb",
        "outputId": "9990b2f9-2166-4b6a-cec4-fe2103aba06d"
      },
      "source": [
        "dadosPessoais(idade=56, cidade=\"Florianópolis\", nome=\"Ana\")"
      ],
      "execution_count": 123,
      "outputs": [
        {
          "output_type": "stream",
          "text": [
            "Seu nome é Ana, você tem 56 anos e mora em Florianópolis.\n"
          ],
          "name": "stdout"
        }
      ]
    },
    {
      "cell_type": "markdown",
      "metadata": {
        "id": "7D21JcAAvV4B"
      },
      "source": [
        "funções com resposta"
      ]
    },
    {
      "cell_type": "code",
      "metadata": {
        "id": "IwYj9uWCvXJu"
      },
      "source": [
        "def somatorio(lista):\n",
        "    soma = 0\n",
        "    for item in lista:\n",
        "        soma = soma + item\n",
        "    return soma"
      ],
      "execution_count": 124,
      "outputs": []
    },
    {
      "cell_type": "code",
      "metadata": {
        "colab": {
          "base_uri": "https://localhost:8080/"
        },
        "id": "N4XCPeOYvajK",
        "outputId": "d147f546-fe67-4f08-ea84-feed7dc3d838"
      },
      "source": [
        "numeros = [1, 2, 3, 4, 5]\n",
        "soma_dos_numeros = somatorio(numeros)\n",
        "print(\"A soma dos elementos da lista vale: \", soma_dos_numeros)"
      ],
      "execution_count": 125,
      "outputs": [
        {
          "output_type": "stream",
          "text": [
            "A soma dos elementos da lista vale:  15\n"
          ],
          "name": "stdout"
        }
      ]
    },
    {
      "cell_type": "code",
      "metadata": {
        "colab": {
          "base_uri": "https://localhost:8080/"
        },
        "id": "e3E4l46fve8V",
        "outputId": "76dac6bc-06b2-4825-a880-0271d1a39e71"
      },
      "source": [
        "if somatorio(numeros) > 50:\n",
        "    print(\"Que soma grande!\")\n",
        "else:\n",
        "    print(\"Que soma pequena!\")"
      ],
      "execution_count": 126,
      "outputs": [
        {
          "output_type": "stream",
          "text": [
            "Que soma pequena!\n"
          ],
          "name": "stdout"
        }
      ]
    },
    {
      "cell_type": "markdown",
      "metadata": {
        "id": "lS_qn80uvhcp"
      },
      "source": [
        "funções recursivas"
      ]
    },
    {
      "cell_type": "code",
      "metadata": {
        "colab": {
          "base_uri": "https://localhost:8080/"
        },
        "id": "DLDl1n9VvjRM",
        "outputId": "52bbb033-2bf5-4f3a-9181-2a1907999122"
      },
      "source": [
        "def funcaoRecursiva(numero):\n",
        "    if (numero != 1):\n",
        "        funcaoRecursiva(numero - 1)\n",
        "    print(numero)\n",
        "\n",
        "print(\"Testando a função recursiva:\")\n",
        "funcaoRecursiva(10)"
      ],
      "execution_count": 127,
      "outputs": [
        {
          "output_type": "stream",
          "text": [
            "Testando a função recursiva:\n",
            "1\n",
            "2\n",
            "3\n",
            "4\n",
            "5\n",
            "6\n",
            "7\n",
            "8\n",
            "9\n",
            "10\n"
          ],
          "name": "stdout"
        }
      ]
    },
    {
      "cell_type": "markdown",
      "metadata": {
        "id": "qrp3iFYjv6L-"
      },
      "source": [
        "aula"
      ]
    },
    {
      "cell_type": "code",
      "metadata": {
        "id": "qIICwWadv7Cd"
      },
      "source": [
        "def media(valor1, valor2, valor3):\n",
        "  soma = valor1 + valor2 + valor3\n",
        "  media = soma/3\n",
        "  return(media)"
      ],
      "execution_count": 129,
      "outputs": []
    },
    {
      "cell_type": "code",
      "metadata": {
        "colab": {
          "base_uri": "https://localhost:8080/"
        },
        "id": "6du5YfbpwV2y",
        "outputId": "bab5172b-b833-42ac-b32f-ad298f41eced"
      },
      "source": [
        "print(media(10,2,8))"
      ],
      "execution_count": 130,
      "outputs": [
        {
          "output_type": "stream",
          "text": [
            "6.666666666666667\n"
          ],
          "name": "stdout"
        }
      ]
    },
    {
      "cell_type": "markdown",
      "metadata": {
        "id": "BLQBu9tmxgFy"
      },
      "source": [
        "agrupando parâmetros"
      ]
    },
    {
      "cell_type": "code",
      "metadata": {
        "colab": {
          "base_uri": "https://localhost:8080/"
        },
        "id": "KTXje10Oweiy",
        "outputId": "c18b68a9-f1bc-49f9-9129-c8b3d6444d27"
      },
      "source": [
        "def piscina(*infos):\n",
        "    vol = infos[0]*infos[1]*infos[2]\n",
        "    return vol\n",
        "\n",
        "volume = piscina(5, 4, 5)\n",
        "\n",
        "print('O volume é: ', volume)"
      ],
      "execution_count": 131,
      "outputs": [
        {
          "output_type": "stream",
          "text": [
            "O volume é:  100\n"
          ],
          "name": "stdout"
        }
      ]
    },
    {
      "cell_type": "code",
      "metadata": {
        "colab": {
          "base_uri": "https://localhost:8080/"
        },
        "id": "xl5GoHMJxpWS",
        "outputId": "825780cd-77eb-4d70-e88a-15e5297b9250"
      },
      "source": [
        "def piscina(prof, largura, comprimento):\n",
        "    vol = prof*largura*comprimento\n",
        "    return vol\n",
        "\n",
        "lista = [5, 4, 5]\n",
        "\n",
        "volume = piscina(*lista)\n",
        "\n",
        "print('O volume é: ', volume)"
      ],
      "execution_count": 132,
      "outputs": [
        {
          "output_type": "stream",
          "text": [
            "O volume é:  100\n"
          ],
          "name": "stdout"
        }
      ]
    },
    {
      "cell_type": "markdown",
      "metadata": {
        "id": "GbUkQbwmxtbr"
      },
      "source": [
        "parâmetros opcionais"
      ]
    },
    {
      "cell_type": "code",
      "metadata": {
        "colab": {
          "base_uri": "https://localhost:8080/"
        },
        "id": "4xROq0_kxvQZ",
        "outputId": "6f4cb9d9-4995-4897-9d32-e7fd634ee06f"
      },
      "source": [
        "def piscina(prof, **infos):\n",
        "    vol = prof*infos['largura']*infos['comprimento']\n",
        "    return vol\n",
        "\n",
        "volume = piscina(5, largura=4, comprimento=5)\n",
        "\n",
        "print('O volume é: ', volume)"
      ],
      "execution_count": 133,
      "outputs": [
        {
          "output_type": "stream",
          "text": [
            "O volume é:  100\n"
          ],
          "name": "stdout"
        }
      ]
    },
    {
      "cell_type": "code",
      "metadata": {
        "colab": {
          "base_uri": "https://localhost:8080/"
        },
        "id": "Gh-gvptjxyhD",
        "outputId": "edc885d6-084f-424a-f526-9f4a3596fba2"
      },
      "source": [
        "def piscina(prof, largura=4, comprimento=5):\n",
        "    vol = prof*largura*comprimento\n",
        "    return vol\n",
        "\n",
        "infos = {'largura': 10, 'comprimento': 20}\n",
        "\n",
        "volume = piscina(5, **infos)\n",
        "\n",
        "print('O volume é: ', volume)"
      ],
      "execution_count": 134,
      "outputs": [
        {
          "output_type": "stream",
          "text": [
            "O volume é:  1000\n"
          ],
          "name": "stdout"
        }
      ]
    },
    {
      "cell_type": "code",
      "metadata": {
        "id": "gUax3K2234Bv"
      },
      "source": [
        "def media2(*args):\n",
        "  soma = sum(args)\n",
        "  media = soma /len(args)\n",
        "  return (media)"
      ],
      "execution_count": 136,
      "outputs": []
    },
    {
      "cell_type": "code",
      "metadata": {
        "colab": {
          "base_uri": "https://localhost:8080/"
        },
        "id": "2302Erl04KyR",
        "outputId": "7670b701-cab4-4d7b-e3fd-65963852720e"
      },
      "source": [
        "media2(10,9,8,4,2,1)"
      ],
      "execution_count": 138,
      "outputs": [
        {
          "output_type": "execute_result",
          "data": {
            "text/plain": [
              "5.666666666666667"
            ]
          },
          "metadata": {
            "tags": []
          },
          "execution_count": 138
        }
      ]
    },
    {
      "cell_type": "code",
      "metadata": {
        "id": "tMGdcCet4Ozc"
      },
      "source": [
        "def print_info(**kwargs):\n",
        "  print(kwargs, type(kwargs))"
      ],
      "execution_count": 139,
      "outputs": []
    },
    {
      "cell_type": "code",
      "metadata": {
        "colab": {
          "base_uri": "https://localhost:8080/"
        },
        "id": "vA831vaR6Pbn",
        "outputId": "297df064-eb6f-47c2-ce09-40bb15a20c08"
      },
      "source": [
        "print_info(nome='welliton', sobrenome='leal', idade=27)"
      ],
      "execution_count": 140,
      "outputs": [
        {
          "output_type": "stream",
          "text": [
            "{'nome': 'welliton', 'sobrenome': 'leal', 'idade': 27} <class 'dict'>\n"
          ],
          "name": "stdout"
        }
      ]
    }
  ]
}